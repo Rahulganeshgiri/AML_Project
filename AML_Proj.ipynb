{
 "cells": [
  {
   "cell_type": "code",
   "execution_count": 1,
   "metadata": {
    "id": "seHbZeHJ-KgS"
   },
   "outputs": [],
   "source": [
    "import pandas as pd\n",
    "import numpy as np\n",
    "from sklearn.model_selection import train_test_split\n",
    "import matplotlib.pyplot as plt\n",
    "import seaborn as sns\n",
    "from sklearn.utils import shuffle\n",
    "import pickle as pkl\n",
    "\n",
    "from sklearn.linear_model import LogisticRegression\n",
    "from sklearn.metrics import classification_report\n",
    "from sklearn.naive_bayes import MultinomialNB\n",
    "from sklearn.neighbors import KNeighborsClassifier\n",
    "from sklearn.tree import DecisionTreeClassifier\n",
    "from sklearn.model_selection import GridSearchCV\n"
   ]
  },
  {
   "cell_type": "code",
   "execution_count": 3,
   "metadata": {
    "colab": {
     "base_uri": "https://localhost:8080/",
     "height": 635
    },
    "id": "sRrTiurK-YVC",
    "outputId": "b91becbc-aec8-45e0-a6b9-91a7f6326282"
   },
   "outputs": [
    {
     "data": {
      "text/html": [
       "<div>\n",
       "<style scoped>\n",
       "    .dataframe tbody tr th:only-of-type {\n",
       "        vertical-align: middle;\n",
       "    }\n",
       "\n",
       "    .dataframe tbody tr th {\n",
       "        vertical-align: top;\n",
       "    }\n",
       "\n",
       "    .dataframe thead th {\n",
       "        text-align: right;\n",
       "    }\n",
       "</style>\n",
       "<table border=\"1\" class=\"dataframe\">\n",
       "  <thead>\n",
       "    <tr style=\"text-align: right;\">\n",
       "      <th></th>\n",
       "      <th>Unnamed: 0</th>\n",
       "      <th>Timestamp</th>\n",
       "      <th>From Bank</th>\n",
       "      <th>Account</th>\n",
       "      <th>To Bank</th>\n",
       "      <th>Account.1</th>\n",
       "      <th>Amount Received</th>\n",
       "      <th>Receiving Currency</th>\n",
       "      <th>Amount Paid</th>\n",
       "      <th>Payment Currency</th>\n",
       "      <th>Payment Format</th>\n",
       "      <th>Is Laundering</th>\n",
       "    </tr>\n",
       "  </thead>\n",
       "  <tbody>\n",
       "    <tr>\n",
       "      <th>0</th>\n",
       "      <td>145558</td>\n",
       "      <td>2022/08/21 22:00</td>\n",
       "      <td>1148</td>\n",
       "      <td>800E39DD0</td>\n",
       "      <td>519</td>\n",
       "      <td>800E3AE80</td>\n",
       "      <td>2692.88</td>\n",
       "      <td>Euro</td>\n",
       "      <td>2692.88</td>\n",
       "      <td>Euro</td>\n",
       "      <td>ACH</td>\n",
       "      <td>1</td>\n",
       "    </tr>\n",
       "    <tr>\n",
       "      <th>1</th>\n",
       "      <td>38655</td>\n",
       "      <td>2022/08/01 00:15</td>\n",
       "      <td>28920</td>\n",
       "      <td>804B0DC60</td>\n",
       "      <td>28920</td>\n",
       "      <td>804B0DC60</td>\n",
       "      <td>11430722.09</td>\n",
       "      <td>US Dollar</td>\n",
       "      <td>11430722.09</td>\n",
       "      <td>US Dollar</td>\n",
       "      <td>Reinvestment</td>\n",
       "      <td>0</td>\n",
       "    </tr>\n",
       "    <tr>\n",
       "      <th>2</th>\n",
       "      <td>19940</td>\n",
       "      <td>2022/08/01 00:14</td>\n",
       "      <td>23294</td>\n",
       "      <td>8027FB6E0</td>\n",
       "      <td>23294</td>\n",
       "      <td>8027FB6E0</td>\n",
       "      <td>4.34</td>\n",
       "      <td>US Dollar</td>\n",
       "      <td>4.34</td>\n",
       "      <td>US Dollar</td>\n",
       "      <td>Reinvestment</td>\n",
       "      <td>0</td>\n",
       "    </tr>\n",
       "    <tr>\n",
       "      <th>3</th>\n",
       "      <td>47653</td>\n",
       "      <td>2022/08/01 00:02</td>\n",
       "      <td>19700</td>\n",
       "      <td>8059E9890</td>\n",
       "      <td>19700</td>\n",
       "      <td>8059E9890</td>\n",
       "      <td>268332.58</td>\n",
       "      <td>US Dollar</td>\n",
       "      <td>268332.58</td>\n",
       "      <td>US Dollar</td>\n",
       "      <td>Reinvestment</td>\n",
       "      <td>0</td>\n",
       "    </tr>\n",
       "    <tr>\n",
       "      <th>4</th>\n",
       "      <td>103777</td>\n",
       "      <td>2022/08/07 15:11</td>\n",
       "      <td>1601</td>\n",
       "      <td>803669F20</td>\n",
       "      <td>155152</td>\n",
       "      <td>814C01FE0</td>\n",
       "      <td>1411210.98</td>\n",
       "      <td>Yen</td>\n",
       "      <td>1411210.98</td>\n",
       "      <td>Yen</td>\n",
       "      <td>ACH</td>\n",
       "      <td>1</td>\n",
       "    </tr>\n",
       "    <tr>\n",
       "      <th>...</th>\n",
       "      <td>...</td>\n",
       "      <td>...</td>\n",
       "      <td>...</td>\n",
       "      <td>...</td>\n",
       "      <td>...</td>\n",
       "      <td>...</td>\n",
       "      <td>...</td>\n",
       "      <td>...</td>\n",
       "      <td>...</td>\n",
       "      <td>...</td>\n",
       "      <td>...</td>\n",
       "      <td>...</td>\n",
       "    </tr>\n",
       "    <tr>\n",
       "      <th>157617</th>\n",
       "      <td>112395</td>\n",
       "      <td>2022/09/07 15:23</td>\n",
       "      <td>0</td>\n",
       "      <td>800117F00</td>\n",
       "      <td>20</td>\n",
       "      <td>800119E40</td>\n",
       "      <td>13207.77</td>\n",
       "      <td>US Dollar</td>\n",
       "      <td>13207.77</td>\n",
       "      <td>US Dollar</td>\n",
       "      <td>ACH</td>\n",
       "      <td>1</td>\n",
       "    </tr>\n",
       "    <tr>\n",
       "      <th>157618</th>\n",
       "      <td>91451</td>\n",
       "      <td>2022/08/01 00:01</td>\n",
       "      <td>226661</td>\n",
       "      <td>80CFB6730</td>\n",
       "      <td>12773</td>\n",
       "      <td>83C7C3E50</td>\n",
       "      <td>33.92</td>\n",
       "      <td>US Dollar</td>\n",
       "      <td>33.92</td>\n",
       "      <td>US Dollar</td>\n",
       "      <td>Credit Card</td>\n",
       "      <td>0</td>\n",
       "    </tr>\n",
       "    <tr>\n",
       "      <th>157619</th>\n",
       "      <td>110721</td>\n",
       "      <td>2022/08/05 21:04</td>\n",
       "      <td>70</td>\n",
       "      <td>100428660</td>\n",
       "      <td>131380</td>\n",
       "      <td>83A6A5240</td>\n",
       "      <td>31247.40</td>\n",
       "      <td>US Dollar</td>\n",
       "      <td>31247.40</td>\n",
       "      <td>US Dollar</td>\n",
       "      <td>Cheque</td>\n",
       "      <td>1</td>\n",
       "    </tr>\n",
       "    <tr>\n",
       "      <th>157620</th>\n",
       "      <td>94322</td>\n",
       "      <td>2022/08/01 00:09</td>\n",
       "      <td>211124</td>\n",
       "      <td>80D9E2480</td>\n",
       "      <td>211124</td>\n",
       "      <td>80D9E2480</td>\n",
       "      <td>23.36</td>\n",
       "      <td>US Dollar</td>\n",
       "      <td>23.36</td>\n",
       "      <td>US Dollar</td>\n",
       "      <td>Reinvestment</td>\n",
       "      <td>0</td>\n",
       "    </tr>\n",
       "    <tr>\n",
       "      <th>157621</th>\n",
       "      <td>33158</td>\n",
       "      <td>2022/08/01 00:14</td>\n",
       "      <td>5893</td>\n",
       "      <td>8041C5C00</td>\n",
       "      <td>5893</td>\n",
       "      <td>8041C5C00</td>\n",
       "      <td>1220.39</td>\n",
       "      <td>US Dollar</td>\n",
       "      <td>1220.39</td>\n",
       "      <td>US Dollar</td>\n",
       "      <td>Reinvestment</td>\n",
       "      <td>0</td>\n",
       "    </tr>\n",
       "  </tbody>\n",
       "</table>\n",
       "<p>157622 rows × 12 columns</p>\n",
       "</div>"
      ],
      "text/plain": [
       "        Unnamed: 0         Timestamp  From Bank    Account  To Bank  \\\n",
       "0           145558  2022/08/21 22:00       1148  800E39DD0      519   \n",
       "1            38655  2022/08/01 00:15      28920  804B0DC60    28920   \n",
       "2            19940  2022/08/01 00:14      23294  8027FB6E0    23294   \n",
       "3            47653  2022/08/01 00:02      19700  8059E9890    19700   \n",
       "4           103777  2022/08/07 15:11       1601  803669F20   155152   \n",
       "...            ...               ...        ...        ...      ...   \n",
       "157617      112395  2022/09/07 15:23          0  800117F00       20   \n",
       "157618       91451  2022/08/01 00:01     226661  80CFB6730    12773   \n",
       "157619      110721  2022/08/05 21:04         70  100428660   131380   \n",
       "157620       94322  2022/08/01 00:09     211124  80D9E2480   211124   \n",
       "157621       33158  2022/08/01 00:14       5893  8041C5C00     5893   \n",
       "\n",
       "        Account.1  Amount Received Receiving Currency  Amount Paid  \\\n",
       "0       800E3AE80          2692.88               Euro      2692.88   \n",
       "1       804B0DC60      11430722.09          US Dollar  11430722.09   \n",
       "2       8027FB6E0             4.34          US Dollar         4.34   \n",
       "3       8059E9890        268332.58          US Dollar    268332.58   \n",
       "4       814C01FE0       1411210.98                Yen   1411210.98   \n",
       "...           ...              ...                ...          ...   \n",
       "157617  800119E40         13207.77          US Dollar     13207.77   \n",
       "157618  83C7C3E50            33.92          US Dollar        33.92   \n",
       "157619  83A6A5240         31247.40          US Dollar     31247.40   \n",
       "157620  80D9E2480            23.36          US Dollar        23.36   \n",
       "157621  8041C5C00          1220.39          US Dollar      1220.39   \n",
       "\n",
       "       Payment Currency Payment Format  Is Laundering  \n",
       "0                  Euro            ACH              1  \n",
       "1             US Dollar   Reinvestment              0  \n",
       "2             US Dollar   Reinvestment              0  \n",
       "3             US Dollar   Reinvestment              0  \n",
       "4                   Yen            ACH              1  \n",
       "...                 ...            ...            ...  \n",
       "157617        US Dollar            ACH              1  \n",
       "157618        US Dollar    Credit Card              0  \n",
       "157619        US Dollar         Cheque              1  \n",
       "157620        US Dollar   Reinvestment              0  \n",
       "157621        US Dollar   Reinvestment              0  \n",
       "\n",
       "[157622 rows x 12 columns]"
      ]
     },
     "execution_count": 3,
     "metadata": {},
     "output_type": "execute_result"
    }
   ],
   "source": [
    "df=pd.read_csv(\"Final_Dataset.csv\")\n",
    "df=shuffle(df).reset_index(drop=True)\n",
    "df"
   ]
  },
  {
   "cell_type": "code",
   "execution_count": 4,
   "metadata": {
    "colab": {
     "base_uri": "https://localhost:8080/"
    },
    "id": "LxoHdOit-9yV",
    "outputId": "95f459a1-b20e-4324-ce2b-1bfcae9f797b"
   },
   "outputs": [
    {
     "data": {
      "text/plain": [
       "Index(['Unnamed: 0', 'Timestamp', 'From Bank', 'Account', 'To Bank',\n",
       "       'Account.1', 'Amount Received', 'Receiving Currency', 'Amount Paid',\n",
       "       'Payment Currency', 'Payment Format', 'Is Laundering'],\n",
       "      dtype='object')"
      ]
     },
     "execution_count": 4,
     "metadata": {},
     "output_type": "execute_result"
    }
   ],
   "source": [
    "df.columns"
   ]
  },
  {
   "cell_type": "code",
   "execution_count": 5,
   "metadata": {
    "id": "HETKJj-wdfFw"
   },
   "outputs": [],
   "source": [
    "df.drop('Unnamed: 0',axis=1,inplace=True)"
   ]
  },
  {
   "cell_type": "code",
   "execution_count": 6,
   "metadata": {
    "colab": {
     "base_uri": "https://localhost:8080/",
     "height": 330
    },
    "id": "-EO5LJyrdnJL",
    "outputId": "da7071dc-5de9-4675-ea54-263ee121714c"
   },
   "outputs": [
    {
     "data": {
      "text/html": [
       "<div>\n",
       "<style scoped>\n",
       "    .dataframe tbody tr th:only-of-type {\n",
       "        vertical-align: middle;\n",
       "    }\n",
       "\n",
       "    .dataframe tbody tr th {\n",
       "        vertical-align: top;\n",
       "    }\n",
       "\n",
       "    .dataframe thead th {\n",
       "        text-align: right;\n",
       "    }\n",
       "</style>\n",
       "<table border=\"1\" class=\"dataframe\">\n",
       "  <thead>\n",
       "    <tr style=\"text-align: right;\">\n",
       "      <th></th>\n",
       "      <th>Timestamp</th>\n",
       "      <th>From Bank</th>\n",
       "      <th>Account</th>\n",
       "      <th>To Bank</th>\n",
       "      <th>Account.1</th>\n",
       "      <th>Amount Received</th>\n",
       "      <th>Receiving Currency</th>\n",
       "      <th>Amount Paid</th>\n",
       "      <th>Payment Currency</th>\n",
       "      <th>Payment Format</th>\n",
       "      <th>Is Laundering</th>\n",
       "    </tr>\n",
       "  </thead>\n",
       "  <tbody>\n",
       "    <tr>\n",
       "      <th>0</th>\n",
       "      <td>2022/08/21 22:00</td>\n",
       "      <td>1148</td>\n",
       "      <td>800E39DD0</td>\n",
       "      <td>519</td>\n",
       "      <td>800E3AE80</td>\n",
       "      <td>2692.88</td>\n",
       "      <td>Euro</td>\n",
       "      <td>2692.88</td>\n",
       "      <td>Euro</td>\n",
       "      <td>ACH</td>\n",
       "      <td>1</td>\n",
       "    </tr>\n",
       "    <tr>\n",
       "      <th>1</th>\n",
       "      <td>2022/08/01 00:15</td>\n",
       "      <td>28920</td>\n",
       "      <td>804B0DC60</td>\n",
       "      <td>28920</td>\n",
       "      <td>804B0DC60</td>\n",
       "      <td>11430722.09</td>\n",
       "      <td>US Dollar</td>\n",
       "      <td>11430722.09</td>\n",
       "      <td>US Dollar</td>\n",
       "      <td>Reinvestment</td>\n",
       "      <td>0</td>\n",
       "    </tr>\n",
       "    <tr>\n",
       "      <th>2</th>\n",
       "      <td>2022/08/01 00:14</td>\n",
       "      <td>23294</td>\n",
       "      <td>8027FB6E0</td>\n",
       "      <td>23294</td>\n",
       "      <td>8027FB6E0</td>\n",
       "      <td>4.34</td>\n",
       "      <td>US Dollar</td>\n",
       "      <td>4.34</td>\n",
       "      <td>US Dollar</td>\n",
       "      <td>Reinvestment</td>\n",
       "      <td>0</td>\n",
       "    </tr>\n",
       "    <tr>\n",
       "      <th>3</th>\n",
       "      <td>2022/08/01 00:02</td>\n",
       "      <td>19700</td>\n",
       "      <td>8059E9890</td>\n",
       "      <td>19700</td>\n",
       "      <td>8059E9890</td>\n",
       "      <td>268332.58</td>\n",
       "      <td>US Dollar</td>\n",
       "      <td>268332.58</td>\n",
       "      <td>US Dollar</td>\n",
       "      <td>Reinvestment</td>\n",
       "      <td>0</td>\n",
       "    </tr>\n",
       "    <tr>\n",
       "      <th>4</th>\n",
       "      <td>2022/08/07 15:11</td>\n",
       "      <td>1601</td>\n",
       "      <td>803669F20</td>\n",
       "      <td>155152</td>\n",
       "      <td>814C01FE0</td>\n",
       "      <td>1411210.98</td>\n",
       "      <td>Yen</td>\n",
       "      <td>1411210.98</td>\n",
       "      <td>Yen</td>\n",
       "      <td>ACH</td>\n",
       "      <td>1</td>\n",
       "    </tr>\n",
       "  </tbody>\n",
       "</table>\n",
       "</div>"
      ],
      "text/plain": [
       "          Timestamp  From Bank    Account  To Bank  Account.1  \\\n",
       "0  2022/08/21 22:00       1148  800E39DD0      519  800E3AE80   \n",
       "1  2022/08/01 00:15      28920  804B0DC60    28920  804B0DC60   \n",
       "2  2022/08/01 00:14      23294  8027FB6E0    23294  8027FB6E0   \n",
       "3  2022/08/01 00:02      19700  8059E9890    19700  8059E9890   \n",
       "4  2022/08/07 15:11       1601  803669F20   155152  814C01FE0   \n",
       "\n",
       "   Amount Received Receiving Currency  Amount Paid Payment Currency  \\\n",
       "0          2692.88               Euro      2692.88             Euro   \n",
       "1      11430722.09          US Dollar  11430722.09        US Dollar   \n",
       "2             4.34          US Dollar         4.34        US Dollar   \n",
       "3        268332.58          US Dollar    268332.58        US Dollar   \n",
       "4       1411210.98                Yen   1411210.98              Yen   \n",
       "\n",
       "  Payment Format  Is Laundering  \n",
       "0            ACH              1  \n",
       "1   Reinvestment              0  \n",
       "2   Reinvestment              0  \n",
       "3   Reinvestment              0  \n",
       "4            ACH              1  "
      ]
     },
     "execution_count": 6,
     "metadata": {},
     "output_type": "execute_result"
    }
   ],
   "source": [
    "df.head()"
   ]
  },
  {
   "cell_type": "code",
   "execution_count": 7,
   "metadata": {
    "colab": {
     "base_uri": "https://localhost:8080/",
     "height": 300
    },
    "id": "Y0IsJ4k_dnu1",
    "outputId": "09ee4cd1-42a9-430c-e7b6-531c79932b7a"
   },
   "outputs": [
    {
     "data": {
      "text/html": [
       "<div>\n",
       "<style scoped>\n",
       "    .dataframe tbody tr th:only-of-type {\n",
       "        vertical-align: middle;\n",
       "    }\n",
       "\n",
       "    .dataframe tbody tr th {\n",
       "        vertical-align: top;\n",
       "    }\n",
       "\n",
       "    .dataframe thead th {\n",
       "        text-align: right;\n",
       "    }\n",
       "</style>\n",
       "<table border=\"1\" class=\"dataframe\">\n",
       "  <thead>\n",
       "    <tr style=\"text-align: right;\">\n",
       "      <th></th>\n",
       "      <th>From Bank</th>\n",
       "      <th>To Bank</th>\n",
       "      <th>Amount Received</th>\n",
       "      <th>Amount Paid</th>\n",
       "      <th>Is Laundering</th>\n",
       "    </tr>\n",
       "  </thead>\n",
       "  <tbody>\n",
       "    <tr>\n",
       "      <th>count</th>\n",
       "      <td>1.576220e+05</td>\n",
       "      <td>1.576220e+05</td>\n",
       "      <td>1.576220e+05</td>\n",
       "      <td>1.576220e+05</td>\n",
       "      <td>157622.000000</td>\n",
       "    </tr>\n",
       "    <tr>\n",
       "      <th>mean</th>\n",
       "      <td>9.152345e+04</td>\n",
       "      <td>1.179635e+05</td>\n",
       "      <td>2.144722e+07</td>\n",
       "      <td>2.144644e+07</td>\n",
       "      <td>0.365590</td>\n",
       "    </tr>\n",
       "    <tr>\n",
       "      <th>std</th>\n",
       "      <td>2.486239e+05</td>\n",
       "      <td>3.021413e+05</td>\n",
       "      <td>2.202855e+09</td>\n",
       "      <td>2.202855e+09</td>\n",
       "      <td>0.481597</td>\n",
       "    </tr>\n",
       "    <tr>\n",
       "      <th>min</th>\n",
       "      <td>0.000000e+00</td>\n",
       "      <td>0.000000e+00</td>\n",
       "      <td>8.100000e-05</td>\n",
       "      <td>8.100000e-05</td>\n",
       "      <td>0.000000</td>\n",
       "    </tr>\n",
       "    <tr>\n",
       "      <th>25%</th>\n",
       "      <td>2.670000e+03</td>\n",
       "      <td>5.889000e+03</td>\n",
       "      <td>2.377200e+02</td>\n",
       "      <td>2.377200e+02</td>\n",
       "      <td>0.000000</td>\n",
       "    </tr>\n",
       "    <tr>\n",
       "      <th>50%</th>\n",
       "      <td>1.770000e+04</td>\n",
       "      <td>2.225400e+04</td>\n",
       "      <td>4.963665e+03</td>\n",
       "      <td>4.962805e+03</td>\n",
       "      <td>0.000000</td>\n",
       "    </tr>\n",
       "    <tr>\n",
       "      <th>75%</th>\n",
       "      <td>1.136200e+05</td>\n",
       "      <td>1.244140e+05</td>\n",
       "      <td>2.112702e+04</td>\n",
       "      <td>2.112702e+04</td>\n",
       "      <td>1.000000</td>\n",
       "    </tr>\n",
       "    <tr>\n",
       "      <th>max</th>\n",
       "      <td>3.146880e+06</td>\n",
       "      <td>2.223559e+06</td>\n",
       "      <td>6.759616e+11</td>\n",
       "      <td>6.759616e+11</td>\n",
       "      <td>1.000000</td>\n",
       "    </tr>\n",
       "  </tbody>\n",
       "</table>\n",
       "</div>"
      ],
      "text/plain": [
       "          From Bank       To Bank  Amount Received   Amount Paid  \\\n",
       "count  1.576220e+05  1.576220e+05     1.576220e+05  1.576220e+05   \n",
       "mean   9.152345e+04  1.179635e+05     2.144722e+07  2.144644e+07   \n",
       "std    2.486239e+05  3.021413e+05     2.202855e+09  2.202855e+09   \n",
       "min    0.000000e+00  0.000000e+00     8.100000e-05  8.100000e-05   \n",
       "25%    2.670000e+03  5.889000e+03     2.377200e+02  2.377200e+02   \n",
       "50%    1.770000e+04  2.225400e+04     4.963665e+03  4.962805e+03   \n",
       "75%    1.136200e+05  1.244140e+05     2.112702e+04  2.112702e+04   \n",
       "max    3.146880e+06  2.223559e+06     6.759616e+11  6.759616e+11   \n",
       "\n",
       "       Is Laundering  \n",
       "count  157622.000000  \n",
       "mean        0.365590  \n",
       "std         0.481597  \n",
       "min         0.000000  \n",
       "25%         0.000000  \n",
       "50%         0.000000  \n",
       "75%         1.000000  \n",
       "max         1.000000  "
      ]
     },
     "execution_count": 7,
     "metadata": {},
     "output_type": "execute_result"
    }
   ],
   "source": [
    "df.describe()"
   ]
  },
  {
   "cell_type": "code",
   "execution_count": 8,
   "metadata": {
    "colab": {
     "base_uri": "https://localhost:8080/"
    },
    "id": "6PeDCwmHeBSr",
    "outputId": "cba35f08-85b1-42d7-bfa7-3027a9ba077d"
   },
   "outputs": [
    {
     "name": "stdout",
     "output_type": "stream",
     "text": [
      "<class 'pandas.core.frame.DataFrame'>\n",
      "RangeIndex: 157622 entries, 0 to 157621\n",
      "Data columns (total 11 columns):\n",
      " #   Column              Non-Null Count   Dtype  \n",
      "---  ------              --------------   -----  \n",
      " 0   Timestamp           157622 non-null  object \n",
      " 1   From Bank           157622 non-null  int64  \n",
      " 2   Account             157622 non-null  object \n",
      " 3   To Bank             157622 non-null  int64  \n",
      " 4   Account.1           157622 non-null  object \n",
      " 5   Amount Received     157622 non-null  float64\n",
      " 6   Receiving Currency  157622 non-null  object \n",
      " 7   Amount Paid         157622 non-null  float64\n",
      " 8   Payment Currency    157622 non-null  object \n",
      " 9   Payment Format      157622 non-null  object \n",
      " 10  Is Laundering       157622 non-null  int64  \n",
      "dtypes: float64(2), int64(3), object(6)\n",
      "memory usage: 13.2+ MB\n"
     ]
    }
   ],
   "source": [
    "df.info()"
   ]
  },
  {
   "cell_type": "code",
   "execution_count": 9,
   "metadata": {
    "colab": {
     "base_uri": "https://localhost:8080/"
    },
    "id": "S1DuQRSVtUP9",
    "outputId": "c80bf287-07ee-47bd-f616-0f589a08b0eb"
   },
   "outputs": [
    {
     "data": {
      "text/plain": [
       "Timestamp             0\n",
       "From Bank             0\n",
       "Account               0\n",
       "To Bank               0\n",
       "Account.1             0\n",
       "Amount Received       0\n",
       "Receiving Currency    0\n",
       "Amount Paid           0\n",
       "Payment Currency      0\n",
       "Payment Format        0\n",
       "Is Laundering         0\n",
       "dtype: int64"
      ]
     },
     "execution_count": 9,
     "metadata": {},
     "output_type": "execute_result"
    }
   ],
   "source": [
    "#Check Missing Value\n",
    "\n",
    "df.isnull().sum()"
   ]
  },
  {
   "cell_type": "code",
   "execution_count": 10,
   "metadata": {
    "id": "y-yR4v3puYQO"
   },
   "outputs": [],
   "source": [
    "## There are no any null values"
   ]
  },
  {
   "cell_type": "code",
   "execution_count": 11,
   "metadata": {
    "colab": {
     "base_uri": "https://localhost:8080/",
     "height": 545
    },
    "id": "Rs1WUwRNucG7",
    "outputId": "2fb0ef3c-573e-4bb1-cdb9-c9a49a6a4176"
   },
   "outputs": [
    {
     "data": {
      "image/png": "[encoded data removed]",
      "text/plain": [
       "<Figure size 800x600 with 1 Axes>"
      ]
     },
     "metadata": {},
     "output_type": "display_data"
    }
   ],
   "source": [
    "plt.figure(figsize=(8, 6))\n",
    "sns.boxplot(data=df[['Amount Received', 'Amount Paid']])\n",
    "plt.title('Boxplot of Amount Received and Amount Paid')\n",
    "plt.show()\n"
   ]
  },
  {
   "cell_type": "code",
   "execution_count": 12,
   "metadata": {
    "colab": {
     "base_uri": "https://localhost:8080/"
    },
    "id": "EEkQbCeExxpR",
    "outputId": "421588ca-dbb1-45cd-d29d-0e0de16fdc57"
   },
   "outputs": [
    {
     "data": {
      "text/plain": [
       "array([2.25387209e+11, 2.86331831e+10, 3.75100076e+10, 1.21622639e+11,\n",
       "       1.64803850e+10, 7.93900458e+09, 4.38234061e+10, 1.46591751e+11,\n",
       "       6.75961604e+11, 3.31445671e+10, 6.64426497e+09, 1.49241228e+10,\n",
       "       1.79171777e+10, 2.92897553e+11, 8.41429155e+09, 1.79229410e+10,\n",
       "       7.17401506e+09, 1.60987422e+10, 2.95988890e+10, 1.11268094e+10,\n",
       "       7.05811815e+09, 1.30051514e+11, 7.69803230e+09, 7.30597029e+10,\n",
       "       2.00563118e+10, 7.18714109e+10, 6.88899462e+09, 6.69439520e+10,\n",
       "       1.08150963e+11, 1.42127118e+10, 1.95491079e+10, 1.72983587e+10,\n",
       "       1.14681755e+11, 1.38513550e+10, 8.44473454e+09, 2.43018696e+11,\n",
       "       1.99225033e+10, 1.95446343e+10, 5.07450890e+10, 6.87801589e+09,\n",
       "       2.19763435e+10, 9.74348109e+09, 6.15553603e+10, 2.04314907e+10,\n",
       "       2.47117868e+10])"
      ]
     },
     "execution_count": 12,
     "metadata": {},
     "output_type": "execute_result"
    }
   ],
   "source": [
    "# Find out records which are outliers\n",
    "mean = df['Amount Received'].mean()\n",
    "std = df['Amount Received'].std()\n",
    "\n",
    "Tmax = mean + (3*std)\n",
    "Tmin = mean - (3*std)\n",
    "\n",
    "outliers = df[(df['Amount Received']<Tmin)|(df['Amount Received']>Tmax)]['Amount Received'].values\n",
    "outliers"
   ]
  },
  {
   "cell_type": "code",
   "execution_count": 13,
   "metadata": {
    "colab": {
     "base_uri": "https://localhost:8080/"
    },
    "id": "B82qj9TXyUiO",
    "outputId": "c96090b0-adea-494e-cbe4-64a02b77f9b3"
   },
   "outputs": [
    {
     "data": {
      "text/plain": [
       "45"
      ]
     },
     "execution_count": 13,
     "metadata": {},
     "output_type": "execute_result"
    }
   ],
   "source": [
    "len(outliers)"
   ]
  },
  {
   "cell_type": "code",
   "execution_count": 14,
   "metadata": {
    "id": "N8eFobJETx5Z"
   },
   "outputs": [],
   "source": [
    "df.to_csv('final_shuffle_dataset.csv', index=False)"
   ]
  },
  {
   "cell_type": "code",
   "execution_count": 15,
   "metadata": {
    "id": "2RW8aJOPz8Un"
   },
   "outputs": [],
   "source": [
    "# Once we have identified which data points are outliers, the next step is to determine how to treat these outliers (ignore/remove/manipulate). We intentionally avoid immediately removing outlier values because we suspect that money launderers may receive unusual or extremely deviant amounts of money from originating transaction accounts.\n",
    "\n",
    "#To determine a reasonable course of action for outliers in this money laundering case, we need to examine how many outlier data points are identified as money laundering and how many are not identified as money laundering."
   ]
  },
  {
   "cell_type": "code",
   "execution_count": 16,
   "metadata": {
    "colab": {
     "base_uri": "https://localhost:8080/"
    },
    "id": "IHgbvCB60cp2",
    "outputId": "5a0ff9a9-9f4e-4c52-de3f-5a6f011e6516"
   },
   "outputs": [
    {
     "data": {
      "text/plain": [
       "Is Laundering\n",
       "1    45\n",
       "Name: count, dtype: int64"
      ]
     },
     "execution_count": 16,
     "metadata": {},
     "output_type": "execute_result"
    }
   ],
   "source": [
    "outliers_df = df[(df['Amount Received']<Tmin) | (df['Amount Received']>Tmax)]\n",
    "outliers_df['Is Laundering'].value_counts()"
   ]
  },
  {
   "cell_type": "code",
   "execution_count": 17,
   "metadata": {
    "colab": {
     "base_uri": "https://localhost:8080/"
    },
    "id": "st5BsB7U1BRb",
    "outputId": "36dde08c-346e-4d2f-975d-7c7d6c6ec302"
   },
   "outputs": [
    {
     "name": "stdout",
     "output_type": "stream",
     "text": [
      "<class 'pandas.core.frame.DataFrame'>\n",
      "RangeIndex: 157622 entries, 0 to 157621\n",
      "Data columns (total 11 columns):\n",
      " #   Column              Non-Null Count   Dtype  \n",
      "---  ------              --------------   -----  \n",
      " 0   Timestamp           157622 non-null  object \n",
      " 1   From Bank           157622 non-null  int64  \n",
      " 2   Account             157622 non-null  object \n",
      " 3   To Bank             157622 non-null  int64  \n",
      " 4   Account.1           157622 non-null  object \n",
      " 5   Amount Received     157622 non-null  float64\n",
      " 6   Receiving Currency  157622 non-null  object \n",
      " 7   Amount Paid         157622 non-null  float64\n",
      " 8   Payment Currency    157622 non-null  object \n",
      " 9   Payment Format      157622 non-null  object \n",
      " 10  Is Laundering       157622 non-null  int64  \n",
      "dtypes: float64(2), int64(3), object(6)\n",
      "memory usage: 13.2+ MB\n"
     ]
    }
   ],
   "source": [
    "df.info()"
   ]
  },
  {
   "cell_type": "code",
   "execution_count": 18,
   "metadata": {
    "id": "ILLwuAnz29Ux"
   },
   "outputs": [],
   "source": [
    "# As we all know, Machine Learning can only process numerical data. Therefore, it's important for us to carefully select the features available. When there are features that cannot be processed, we can manipulate them to produce meaningful values.\n",
    "\n",
    "#Based on the information provided above, there are several columns that are not of numerical data type:\n",
    "\n",
    "#*) Timestamp\n",
    "\n",
    "#*) Account\n",
    "\n",
    "#*) Account.1\n",
    "\n",
    "#*) Receiving Currency\n",
    "\n",
    "#*) Payment Currency\n",
    "\n",
    "#*) Payment Format"
   ]
  },
  {
   "cell_type": "code",
   "execution_count": 19,
   "metadata": {
    "id": "nFAVBJZ_3USq"
   },
   "outputs": [],
   "source": [
    "df['Timestamp'] = pd.to_datetime(df['Timestamp'])\n",
    "\n",
    "df['Hour'] = df['Timestamp'].dt.hour\n",
    "df['Minutes'] = df['Timestamp'].dt.minute"
   ]
  },
  {
   "cell_type": "code",
   "execution_count": 20,
   "metadata": {
    "colab": {
     "base_uri": "https://localhost:8080/"
    },
    "id": "SoRn8wNU4WJT",
    "outputId": "8fb326e4-8318-46a8-a7ec-30d08d0b555a"
   },
   "outputs": [
    {
     "name": "stdout",
     "output_type": "stream",
     "text": [
      "<class 'pandas.core.frame.DataFrame'>\n",
      "RangeIndex: 157622 entries, 0 to 157621\n",
      "Data columns (total 13 columns):\n",
      " #   Column              Non-Null Count   Dtype         \n",
      "---  ------              --------------   -----         \n",
      " 0   Timestamp           157622 non-null  datetime64[ns]\n",
      " 1   From Bank           157622 non-null  int64         \n",
      " 2   Account             157622 non-null  object        \n",
      " 3   To Bank             157622 non-null  int64         \n",
      " 4   Account.1           157622 non-null  object        \n",
      " 5   Amount Received     157622 non-null  float64       \n",
      " 6   Receiving Currency  157622 non-null  object        \n",
      " 7   Amount Paid         157622 non-null  float64       \n",
      " 8   Payment Currency    157622 non-null  object        \n",
      " 9   Payment Format      157622 non-null  object        \n",
      " 10  Is Laundering       157622 non-null  int64         \n",
      " 11  Hour                157622 non-null  int32         \n",
      " 12  Minutes             157622 non-null  int32         \n",
      "dtypes: datetime64[ns](1), float64(2), int32(2), int64(3), object(5)\n",
      "memory usage: 14.4+ MB\n"
     ]
    }
   ],
   "source": [
    "df.info()"
   ]
  },
  {
   "cell_type": "code",
   "execution_count": 21,
   "metadata": {
    "id": "UUDxAfxD4eOH"
   },
   "outputs": [],
   "source": [
    "#We move on to the 'Account' and 'Account.1' features, which are the codes for the starting and ending accounts of a transaction. We want to see if transactions between the same account affect whether it's flagged as money laundering.\n",
    "\n",
    "#So, we add a new column called 'Different Account'. It gets a 0 if the transaction is between the same sender and receiver accounts, and a 1 if it's between different accounts. After adding this column, we can drop the 'Account' and 'Account.1' columns since we don't need them anymore.\n"
   ]
  },
  {
   "cell_type": "code",
   "execution_count": 22,
   "metadata": {
    "id": "vyMHsTtK5wtg"
   },
   "outputs": [],
   "source": [
    "df['Different Account'] = np.where(df['Account'] == df['Account.1'], 0, 1)"
   ]
  },
  {
   "cell_type": "code",
   "execution_count": 23,
   "metadata": {
    "colab": {
     "base_uri": "https://localhost:8080/"
    },
    "id": "o8tyFsF85xS-",
    "outputId": "d9038027-a61d-4242-f926-a0e44d1a4199"
   },
   "outputs": [
    {
     "data": {
      "text/plain": [
       "Different Account\n",
       "1    83658\n",
       "0    73964\n",
       "Name: count, dtype: int64"
      ]
     },
     "execution_count": 23,
     "metadata": {},
     "output_type": "execute_result"
    }
   ],
   "source": [
    "df['Different Account'].value_counts()"
   ]
  },
  {
   "cell_type": "code",
   "execution_count": 24,
   "metadata": {
    "colab": {
     "base_uri": "https://localhost:8080/"
    },
    "id": "2Q44m_LL64r4",
    "outputId": "c385bf68-f2b4-46d0-a100-3b22fe5f50af"
   },
   "outputs": [
    {
     "name": "stdout",
     "output_type": "stream",
     "text": [
      "Amount (Different Account=1, Is Laundering=0): 26155\n",
      "Amount (Different Account=0, Is Laundering=1): 122\n",
      "Amount (Different Account=1, Is Laundering=1): 57503\n",
      "Amount (Different Account=0, Is Laundering=0): 73842\n"
     ]
    }
   ],
   "source": [
    "count_1_0 = df[(df['Different Account'] == 1) & (df['Is Laundering'] == 0)]['Is Laundering'].count()\n",
    "count_0_1 = df[(df['Different Account'] == 0) & (df['Is Laundering'] == 1)]['Is Laundering'].count()\n",
    "count_1_1 = df[(df['Different Account'] == 1) & (df['Is Laundering'] == 1)]['Is Laundering'].count()\n",
    "count_0_0 = df[(df['Different Account'] == 0) & (df['Is Laundering'] == 0)]['Is Laundering'].count()\n",
    "\n",
    "# Menampilkan hasil\n",
    "print(\"Amount (Different Account=1, Is Laundering=0):\", count_1_0)\n",
    "print(\"Amount (Different Account=0, Is Laundering=1):\", count_0_1)\n",
    "print(\"Amount (Different Account=1, Is Laundering=1):\", count_1_1)\n",
    "print(\"Amount (Different Account=0, Is Laundering=0):\", count_0_0)"
   ]
  },
  {
   "cell_type": "code",
   "execution_count": 25,
   "metadata": {
    "colab": {
     "base_uri": "https://localhost:8080/"
    },
    "id": "eUXt4leG8MrM",
    "outputId": "b2f4dece-cc41-427c-ba24-597e5c6d4792"
   },
   "outputs": [
    {
     "data": {
      "text/plain": [
       "array([[73842, 26155],\n",
       "       [  122, 57503]], dtype=int64)"
      ]
     },
     "execution_count": 25,
     "metadata": {},
     "output_type": "execute_result"
    }
   ],
   "source": [
    "from sklearn.metrics import confusion_matrix\n",
    "\n",
    "# Membuat confusion matrix\n",
    "conf_matrix = confusion_matrix(df['Is Laundering'], df['Different Account'])\n",
    "conf_matrix"
   ]
  },
  {
   "cell_type": "code",
   "execution_count": 26,
   "metadata": {
    "id": "w8SBqPbT8PXF"
   },
   "outputs": [],
   "source": [
    "#Initially, we assumed that a transaction occurring between the same accounts would be unusual. However, after conducting calculations, we found that the influence of transactions between the same accounts on the identification as a money laundering transaction is not strong enough. This conclusion is based on the confusion matrix, which evaluates the impact of the 'Different Account' column on the 'Is Laundering' column and shows relatively balanced values. There are only 122 data points where a transaction occurs between the same accounts and is identified as money laundering. This number is relatively small compared to others."
   ]
  },
  {
   "cell_type": "code",
   "execution_count": 27,
   "metadata": {
    "id": "p7Puk3aI8gQg"
   },
   "outputs": [],
   "source": [
    "#Drop unrelatable columns\n",
    "df = df.drop(columns=['Account','Account.1'])"
   ]
  },
  {
   "cell_type": "code",
   "execution_count": 28,
   "metadata": {
    "colab": {
     "base_uri": "https://localhost:8080/",
     "height": 330
    },
    "id": "P_kPeGWz8tAJ",
    "outputId": "6784c1db-bd0b-418d-a7f5-c7663a2fce6b"
   },
   "outputs": [
    {
     "data": {
      "text/html": [
       "<div>\n",
       "<style scoped>\n",
       "    .dataframe tbody tr th:only-of-type {\n",
       "        vertical-align: middle;\n",
       "    }\n",
       "\n",
       "    .dataframe tbody tr th {\n",
       "        vertical-align: top;\n",
       "    }\n",
       "\n",
       "    .dataframe thead th {\n",
       "        text-align: right;\n",
       "    }\n",
       "</style>\n",
       "<table border=\"1\" class=\"dataframe\">\n",
       "  <thead>\n",
       "    <tr style=\"text-align: right;\">\n",
       "      <th></th>\n",
       "      <th>Timestamp</th>\n",
       "      <th>From Bank</th>\n",
       "      <th>To Bank</th>\n",
       "      <th>Amount Received</th>\n",
       "      <th>Receiving Currency</th>\n",
       "      <th>Amount Paid</th>\n",
       "      <th>Payment Currency</th>\n",
       "      <th>Payment Format</th>\n",
       "      <th>Is Laundering</th>\n",
       "      <th>Hour</th>\n",
       "      <th>Minutes</th>\n",
       "      <th>Different Account</th>\n",
       "    </tr>\n",
       "  </thead>\n",
       "  <tbody>\n",
       "    <tr>\n",
       "      <th>0</th>\n",
       "      <td>2022-08-21 22:00:00</td>\n",
       "      <td>1148</td>\n",
       "      <td>519</td>\n",
       "      <td>2692.88</td>\n",
       "      <td>Euro</td>\n",
       "      <td>2692.88</td>\n",
       "      <td>Euro</td>\n",
       "      <td>ACH</td>\n",
       "      <td>1</td>\n",
       "      <td>22</td>\n",
       "      <td>0</td>\n",
       "      <td>1</td>\n",
       "    </tr>\n",
       "    <tr>\n",
       "      <th>1</th>\n",
       "      <td>2022-08-01 00:15:00</td>\n",
       "      <td>28920</td>\n",
       "      <td>28920</td>\n",
       "      <td>11430722.09</td>\n",
       "      <td>US Dollar</td>\n",
       "      <td>11430722.09</td>\n",
       "      <td>US Dollar</td>\n",
       "      <td>Reinvestment</td>\n",
       "      <td>0</td>\n",
       "      <td>0</td>\n",
       "      <td>15</td>\n",
       "      <td>0</td>\n",
       "    </tr>\n",
       "    <tr>\n",
       "      <th>2</th>\n",
       "      <td>2022-08-01 00:14:00</td>\n",
       "      <td>23294</td>\n",
       "      <td>23294</td>\n",
       "      <td>4.34</td>\n",
       "      <td>US Dollar</td>\n",
       "      <td>4.34</td>\n",
       "      <td>US Dollar</td>\n",
       "      <td>Reinvestment</td>\n",
       "      <td>0</td>\n",
       "      <td>0</td>\n",
       "      <td>14</td>\n",
       "      <td>0</td>\n",
       "    </tr>\n",
       "    <tr>\n",
       "      <th>3</th>\n",
       "      <td>2022-08-01 00:02:00</td>\n",
       "      <td>19700</td>\n",
       "      <td>19700</td>\n",
       "      <td>268332.58</td>\n",
       "      <td>US Dollar</td>\n",
       "      <td>268332.58</td>\n",
       "      <td>US Dollar</td>\n",
       "      <td>Reinvestment</td>\n",
       "      <td>0</td>\n",
       "      <td>0</td>\n",
       "      <td>2</td>\n",
       "      <td>0</td>\n",
       "    </tr>\n",
       "    <tr>\n",
       "      <th>4</th>\n",
       "      <td>2022-08-07 15:11:00</td>\n",
       "      <td>1601</td>\n",
       "      <td>155152</td>\n",
       "      <td>1411210.98</td>\n",
       "      <td>Yen</td>\n",
       "      <td>1411210.98</td>\n",
       "      <td>Yen</td>\n",
       "      <td>ACH</td>\n",
       "      <td>1</td>\n",
       "      <td>15</td>\n",
       "      <td>11</td>\n",
       "      <td>1</td>\n",
       "    </tr>\n",
       "  </tbody>\n",
       "</table>\n",
       "</div>"
      ],
      "text/plain": [
       "            Timestamp  From Bank  To Bank  Amount Received Receiving Currency  \\\n",
       "0 2022-08-21 22:00:00       1148      519          2692.88               Euro   \n",
       "1 2022-08-01 00:15:00      28920    28920      11430722.09          US Dollar   \n",
       "2 2022-08-01 00:14:00      23294    23294             4.34          US Dollar   \n",
       "3 2022-08-01 00:02:00      19700    19700        268332.58          US Dollar   \n",
       "4 2022-08-07 15:11:00       1601   155152       1411210.98                Yen   \n",
       "\n",
       "   Amount Paid Payment Currency Payment Format  Is Laundering  Hour  Minutes  \\\n",
       "0      2692.88             Euro            ACH              1    22        0   \n",
       "1  11430722.09        US Dollar   Reinvestment              0     0       15   \n",
       "2         4.34        US Dollar   Reinvestment              0     0       14   \n",
       "3    268332.58        US Dollar   Reinvestment              0     0        2   \n",
       "4   1411210.98              Yen            ACH              1    15       11   \n",
       "\n",
       "   Different Account  \n",
       "0                  1  \n",
       "1                  0  \n",
       "2                  0  \n",
       "3                  0  \n",
       "4                  1  "
      ]
     },
     "execution_count": 28,
     "metadata": {},
     "output_type": "execute_result"
    }
   ],
   "source": [
    "df.head()"
   ]
  },
  {
   "cell_type": "code",
   "execution_count": 29,
   "metadata": {
    "colab": {
     "base_uri": "https://localhost:8080/"
    },
    "id": "GBf-lPB98umR",
    "outputId": "68e4142f-9ddc-4b5f-8de0-983371335547"
   },
   "outputs": [
    {
     "name": "stdout",
     "output_type": "stream",
     "text": [
      "<class 'pandas.core.frame.DataFrame'>\n",
      "RangeIndex: 157622 entries, 0 to 157621\n",
      "Data columns (total 12 columns):\n",
      " #   Column              Non-Null Count   Dtype         \n",
      "---  ------              --------------   -----         \n",
      " 0   Timestamp           157622 non-null  datetime64[ns]\n",
      " 1   From Bank           157622 non-null  int64         \n",
      " 2   To Bank             157622 non-null  int64         \n",
      " 3   Amount Received     157622 non-null  float64       \n",
      " 4   Receiving Currency  157622 non-null  object        \n",
      " 5   Amount Paid         157622 non-null  float64       \n",
      " 6   Payment Currency    157622 non-null  object        \n",
      " 7   Payment Format      157622 non-null  object        \n",
      " 8   Is Laundering       157622 non-null  int64         \n",
      " 9   Hour                157622 non-null  int32         \n",
      " 10  Minutes             157622 non-null  int32         \n",
      " 11  Different Account   157622 non-null  int32         \n",
      "dtypes: datetime64[ns](1), float64(2), int32(3), int64(3), object(3)\n",
      "memory usage: 12.6+ MB\n"
     ]
    }
   ],
   "source": [
    "df.info()"
   ]
  },
  {
   "cell_type": "code",
   "execution_count": 30,
   "metadata": {
    "colab": {
     "base_uri": "https://localhost:8080/",
     "height": 467
    },
    "id": "kaeson0w8xTF",
    "outputId": "1626c35e-44e5-445e-e9ff-5c00640e9374"
   },
   "outputs": [
    {
     "data": {
      "image/png": "[encoded data removed]",
      "text/plain": [
       "<Figure size 640x480 with 1 Axes>"
      ]
     },
     "metadata": {},
     "output_type": "display_data"
    }
   ],
   "source": [
    "#python\n",
    "# Creating a bar plot\n",
    "df['Is Laundering'].value_counts().plot(kind='bar', color=['skyblue', 'salmon'])\n",
    "\n",
    "# Adding labels and title\n",
    "plt.xlabel('Money Laundering Status')\n",
    "plt.ylabel('Number of Data')\n",
    "plt.title('Distribution of Money Laundering Status in the Data')\n",
    "\n",
    "# Displaying the bar plot\n",
    "plt.show()"
   ]
  },
  {
   "cell_type": "code",
   "execution_count": 31,
   "metadata": {
    "colab": {
     "base_uri": "https://localhost:8080/"
    },
    "id": "ADIiGLahCHXr",
    "outputId": "4a0ea8a9-1738-41ab-e3b9-a9acdafcf2a3"
   },
   "outputs": [
    {
     "data": {
      "text/plain": [
       "[]"
      ]
     },
     "execution_count": 31,
     "metadata": {},
     "output_type": "execute_result"
    }
   ],
   "source": [
    "[]#Insight: The visualization above provides an overview of the comparison between data identified as money laundering and those not identified as money laundering. Interestingly, the DataFrame 'df' contains more data not identified as money laundering compared to those identified as money laundering."
   ]
  },
  {
   "cell_type": "code",
   "execution_count": 32,
   "metadata": {
    "colab": {
     "base_uri": "https://localhost:8080/",
     "height": 448
    },
    "id": "SX5UwfWUGMQ0",
    "outputId": "951ac19b-2448-4124-9557-8eb544b99d41"
   },
   "outputs": [
    {
     "data": {
      "text/plain": [
       "<Axes: ylabel='Payment Format'>"
      ]
     },
     "execution_count": 32,
     "metadata": {},
     "output_type": "execute_result"
    },
    {
     "data": {
      "image/png": "[encoded data removed]",
      "text/plain": [
       "<Figure size 640x480 with 1 Axes>"
      ]
     },
     "metadata": {},
     "output_type": "display_data"
    }
   ],
   "source": [
    "df['Payment Format'].value_counts().sort_values().plot(kind='barh')"
   ]
  },
  {
   "cell_type": "code",
   "execution_count": 33,
   "metadata": {
    "id": "DNJ8OgR8GOIb"
   },
   "outputs": [],
   "source": [
    "#we can clearly see the proportion of data in terms of the percentage of data based on the payment formats available. From the pie chart visualization, it is evident that there are two payment formats most commonly used for transactions. Reinvestment constitutes the largest proportion at 46.7%, followed by ACH at 34.6%.\n",
    "\n",
    "#Reinvestment refers to the act of reinvesting funds received from previous investments. This can occur in various contexts, such as dividends earned from stock investments being reinvested to purchase more stocks.\n",
    "\n",
    "#ACH is an electronic payment system used to process electronic fund transfers between bank accounts in the United States."
   ]
  },
  {
   "cell_type": "code",
   "execution_count": 34,
   "metadata": {
    "colab": {
     "base_uri": "https://localhost:8080/",
     "height": 751
    },
    "id": "1ich0pzdJAMU",
    "outputId": "6863d1fc-4a40-46e9-bdf6-0e886259f8fe"
   },
   "outputs": [
    {
     "data": {
      "image/png": "[encoded data removed]",
      "text/plain": [
       "<Figure size 1000x600 with 1 Axes>"
      ]
     },
     "metadata": {},
     "output_type": "display_data"
    }
   ],
   "source": [
    "import seaborn as sns\n",
    "import matplotlib.pyplot as plt\n",
    "\n",
    "# Plotting the count plot with different colors for each bar\n",
    "plt.figure(figsize=(10, 6))\n",
    "sns.countplot(x='Payment Currency', data=df, order=df['Payment Currency'].value_counts().index, palette='viridis')\n",
    "plt.xlabel('Payment Currency')\n",
    "plt.ylabel('Count')\n",
    "plt.title('Distribution of Payment Currencies')\n",
    "plt.xticks(rotation=45)  # Rotate x-axis labels for better readability\n",
    "plt.show()\n"
   ]
  },
  {
   "cell_type": "code",
   "execution_count": 35,
   "metadata": {
    "colab": {
     "base_uri": "https://localhost:8080/",
     "height": 545
    },
    "id": "5Lt4EOxyLw1S",
    "outputId": "a8333cfb-340e-4563-ce06-4923f9f0b563"
   },
   "outputs": [
    {
     "data": {
      "image/png": "[encoded data removed]",
      "text/plain": [
       "<Figure size 1000x600 with 2 Axes>"
      ]
     },
     "metadata": {},
     "output_type": "display_data"
    }
   ],
   "source": [
    "# Selecting numeric columns for correlation heatmap\n",
    "numeric_columns = df[['Amount Received', 'Amount Paid']]\n",
    "\n",
    "# Creating correlation heatmap\n",
    "plt.figure(figsize=(10, 6))\n",
    "sns.heatmap(numeric_columns.corr(), annot=True, cmap='coolwarm', fmt='.2f', cbar_kws={'label': 'Correlation'})\n",
    "\n",
    "# Adding title\n",
    "plt.title('Correlation Heatmap Between Amount Received and Amount Paid')\n",
    "\n",
    "# Displaying the heatmap\n",
    "plt.show()\n"
   ]
  },
  {
   "cell_type": "code",
   "execution_count": 36,
   "metadata": {
    "colab": {
     "base_uri": "https://localhost:8080/",
     "height": 564
    },
    "id": "dBFHwINFMYUg",
    "outputId": "750538d9-d623-4bd3-a236-450af9120ede"
   },
   "outputs": [
    {
     "name": "stderr",
     "output_type": "stream",
     "text": [
      "C:\\Users\\LENOVO\\anaconda3\\Lib\\site-packages\\seaborn\\_oldcore.py:1119: FutureWarning: use_inf_as_na option is deprecated and will be removed in a future version. Convert inf values to NaN before operating instead.\n",
      "  with pd.option_context('mode.use_inf_as_na', True):\n"
     ]
    },
    {
     "data": {
      "image/png": "[encoded data removed]",
      "text/plain": [
       "<Figure size 1000x600 with 1 Axes>"
      ]
     },
     "metadata": {},
     "output_type": "display_data"
    }
   ],
   "source": [
    "# Filter DataFrame hanya untuk 'Is Laundering' yang memiliki nilai 1\n",
    "df_is_laundering_1 = df[df['Is Laundering'] == 1]\n",
    "\n",
    "# Pembuatan Histogra,\n",
    "plt.figure(figsize=(10, 6))\n",
    "sns.histplot(data=df_is_laundering_1, x='Hour', bins=24, kde=True, color='skyblue')\n",
    "plt.title('Distribusi Kolom Hour untuk Is Laundering = 1')\n",
    "plt.xlabel('Jam')\n",
    "plt.ylabel('Frekuensi')\n",
    "plt.show()"
   ]
  },
  {
   "cell_type": "code",
   "execution_count": 37,
   "metadata": {
    "id": "aygjRBwdMieI"
   },
   "outputs": [],
   "source": [
    "#Insight: Money launderers tend to conduct most of their transactions during the daytime, particularly between 11:00 AM and 3:00 PM."
   ]
  },
  {
   "cell_type": "code",
   "execution_count": 38,
   "metadata": {
    "colab": {
     "base_uri": "https://localhost:8080/"
    },
    "id": "QAZQcQjOMwl_",
    "outputId": "ed8f08dd-f641-42f4-e3a8-c41dd81dd751"
   },
   "outputs": [
    {
     "name": "stdout",
     "output_type": "stream",
     "text": [
      "<class 'pandas.core.frame.DataFrame'>\n",
      "RangeIndex: 157622 entries, 0 to 157621\n",
      "Data columns (total 12 columns):\n",
      " #   Column              Non-Null Count   Dtype         \n",
      "---  ------              --------------   -----         \n",
      " 0   Timestamp           157622 non-null  datetime64[ns]\n",
      " 1   From Bank           157622 non-null  int64         \n",
      " 2   To Bank             157622 non-null  int64         \n",
      " 3   Amount Received     157622 non-null  float64       \n",
      " 4   Receiving Currency  157622 non-null  object        \n",
      " 5   Amount Paid         157622 non-null  float64       \n",
      " 6   Payment Currency    157622 non-null  object        \n",
      " 7   Payment Format      157622 non-null  object        \n",
      " 8   Is Laundering       157622 non-null  int64         \n",
      " 9   Hour                157622 non-null  int32         \n",
      " 10  Minutes             157622 non-null  int32         \n",
      " 11  Different Account   157622 non-null  int32         \n",
      "dtypes: datetime64[ns](1), float64(2), int32(3), int64(3), object(3)\n",
      "memory usage: 12.6+ MB\n"
     ]
    }
   ],
   "source": [
    "df.info()"
   ]
  },
  {
   "cell_type": "code",
   "execution_count": 39,
   "metadata": {
    "colab": {
     "base_uri": "https://localhost:8080/"
    },
    "id": "0U1PwoCzMxbt",
    "outputId": "c6e668e8-1114-4ded-9bc5-1831fa2dec2a"
   },
   "outputs": [
    {
     "data": {
      "text/plain": [
       "Timestamp              38928\n",
       "From Bank               9097\n",
       "To Bank                 9829\n",
       "Amount Received       123447\n",
       "Receiving Currency        15\n",
       "Amount Paid           123609\n",
       "Payment Currency          15\n",
       "Payment Format             7\n",
       "Is Laundering              2\n",
       "Hour                      24\n",
       "Minutes                   60\n",
       "Different Account          2\n",
       "dtype: int64"
      ]
     },
     "execution_count": 39,
     "metadata": {},
     "output_type": "execute_result"
    }
   ],
   "source": [
    "df.nunique()"
   ]
  },
  {
   "cell_type": "markdown",
   "metadata": {
    "id": "dtw21orpM0PV"
   },
   "source": [
    "#Insight:\n",
    "- The 'Payment Currency' and 'Receiving Currency' columns each have 15 unique values.\n",
    "- The 'Payment Format' column has 7 unique values."
   ]
  },
  {
   "cell_type": "markdown",
   "metadata": {
    "id": "Hvawcm9mM9dP"
   },
   "source": [
    "Feature Engineering¶\n",
    "Our goal in examining the categorical data variations above is to determine the appropriate Feature Engineering method for each categorical column. As we all know, Machine Learning can only process numeric data, so categorical data must be converted to numeric data through Feature Engineering. Feature Engineering includes several methods such as:\n",
    "\n",
    "*) Binary Encoding (to convert categorical data that only has 2 unique values)\n",
    "\n",
    "*) One Hot Encoding (to convert categorical data that has more than 2 unique values)\n",
    "\n",
    "*) Label Encoding (to convert categorical data into labels that we define ourselves)\n",
    "\n",
    "*) Frequency Encoding (to convert categorical data into numeric based on the frequency of each value)\n",
    "\n",
    "*) Mean Encoding (to convert categorical data into numeric based on mean)\n",
    "\n",
    "NOTES: It is very important for us to wisely choose the most suitable method for a categorical column."
   ]
  },
  {
   "cell_type": "code",
   "execution_count": 40,
   "metadata": {
    "colab": {
     "base_uri": "https://localhost:8080/",
     "height": 330
    },
    "id": "-PEg2pAmNNan",
    "outputId": "3d76c19a-4f3f-4e7f-91b4-711a35acf358"
   },
   "outputs": [
    {
     "data": {
      "text/html": [
       "<div>\n",
       "<style scoped>\n",
       "    .dataframe tbody tr th:only-of-type {\n",
       "        vertical-align: middle;\n",
       "    }\n",
       "\n",
       "    .dataframe tbody tr th {\n",
       "        vertical-align: top;\n",
       "    }\n",
       "\n",
       "    .dataframe thead th {\n",
       "        text-align: right;\n",
       "    }\n",
       "</style>\n",
       "<table border=\"1\" class=\"dataframe\">\n",
       "  <thead>\n",
       "    <tr style=\"text-align: right;\">\n",
       "      <th></th>\n",
       "      <th>Timestamp</th>\n",
       "      <th>From Bank</th>\n",
       "      <th>To Bank</th>\n",
       "      <th>Amount Received</th>\n",
       "      <th>Receiving Currency</th>\n",
       "      <th>Amount Paid</th>\n",
       "      <th>Payment Currency</th>\n",
       "      <th>Payment Format</th>\n",
       "      <th>Is Laundering</th>\n",
       "      <th>Hour</th>\n",
       "      <th>Minutes</th>\n",
       "      <th>Different Account</th>\n",
       "    </tr>\n",
       "  </thead>\n",
       "  <tbody>\n",
       "    <tr>\n",
       "      <th>0</th>\n",
       "      <td>2022-08-21 22:00:00</td>\n",
       "      <td>1148</td>\n",
       "      <td>519</td>\n",
       "      <td>2692.88</td>\n",
       "      <td>Euro</td>\n",
       "      <td>2692.88</td>\n",
       "      <td>Euro</td>\n",
       "      <td>ACH</td>\n",
       "      <td>1</td>\n",
       "      <td>22</td>\n",
       "      <td>0</td>\n",
       "      <td>1</td>\n",
       "    </tr>\n",
       "    <tr>\n",
       "      <th>1</th>\n",
       "      <td>2022-08-01 00:15:00</td>\n",
       "      <td>28920</td>\n",
       "      <td>28920</td>\n",
       "      <td>11430722.09</td>\n",
       "      <td>US Dollar</td>\n",
       "      <td>11430722.09</td>\n",
       "      <td>US Dollar</td>\n",
       "      <td>Reinvestment</td>\n",
       "      <td>0</td>\n",
       "      <td>0</td>\n",
       "      <td>15</td>\n",
       "      <td>0</td>\n",
       "    </tr>\n",
       "    <tr>\n",
       "      <th>2</th>\n",
       "      <td>2022-08-01 00:14:00</td>\n",
       "      <td>23294</td>\n",
       "      <td>23294</td>\n",
       "      <td>4.34</td>\n",
       "      <td>US Dollar</td>\n",
       "      <td>4.34</td>\n",
       "      <td>US Dollar</td>\n",
       "      <td>Reinvestment</td>\n",
       "      <td>0</td>\n",
       "      <td>0</td>\n",
       "      <td>14</td>\n",
       "      <td>0</td>\n",
       "    </tr>\n",
       "    <tr>\n",
       "      <th>3</th>\n",
       "      <td>2022-08-01 00:02:00</td>\n",
       "      <td>19700</td>\n",
       "      <td>19700</td>\n",
       "      <td>268332.58</td>\n",
       "      <td>US Dollar</td>\n",
       "      <td>268332.58</td>\n",
       "      <td>US Dollar</td>\n",
       "      <td>Reinvestment</td>\n",
       "      <td>0</td>\n",
       "      <td>0</td>\n",
       "      <td>2</td>\n",
       "      <td>0</td>\n",
       "    </tr>\n",
       "    <tr>\n",
       "      <th>4</th>\n",
       "      <td>2022-08-07 15:11:00</td>\n",
       "      <td>1601</td>\n",
       "      <td>155152</td>\n",
       "      <td>1411210.98</td>\n",
       "      <td>Yen</td>\n",
       "      <td>1411210.98</td>\n",
       "      <td>Yen</td>\n",
       "      <td>ACH</td>\n",
       "      <td>1</td>\n",
       "      <td>15</td>\n",
       "      <td>11</td>\n",
       "      <td>1</td>\n",
       "    </tr>\n",
       "  </tbody>\n",
       "</table>\n",
       "</div>"
      ],
      "text/plain": [
       "            Timestamp  From Bank  To Bank  Amount Received Receiving Currency  \\\n",
       "0 2022-08-21 22:00:00       1148      519          2692.88               Euro   \n",
       "1 2022-08-01 00:15:00      28920    28920      11430722.09          US Dollar   \n",
       "2 2022-08-01 00:14:00      23294    23294             4.34          US Dollar   \n",
       "3 2022-08-01 00:02:00      19700    19700        268332.58          US Dollar   \n",
       "4 2022-08-07 15:11:00       1601   155152       1411210.98                Yen   \n",
       "\n",
       "   Amount Paid Payment Currency Payment Format  Is Laundering  Hour  Minutes  \\\n",
       "0      2692.88             Euro            ACH              1    22        0   \n",
       "1  11430722.09        US Dollar   Reinvestment              0     0       15   \n",
       "2         4.34        US Dollar   Reinvestment              0     0       14   \n",
       "3    268332.58        US Dollar   Reinvestment              0     0        2   \n",
       "4   1411210.98              Yen            ACH              1    15       11   \n",
       "\n",
       "   Different Account  \n",
       "0                  1  \n",
       "1                  0  \n",
       "2                  0  \n",
       "3                  0  \n",
       "4                  1  "
      ]
     },
     "execution_count": 40,
     "metadata": {},
     "output_type": "execute_result"
    }
   ],
   "source": [
    "#Before Feature Engineering\n",
    "df.head()"
   ]
  },
  {
   "cell_type": "markdown",
   "metadata": {
    "id": "97Dm35ZLNRqR"
   },
   "source": [
    "For the 'Payment Currency' and 'Receiving Currency' columns, we agree to use frequency encoding. The reason is that the data variations are quite extensive (there are 15 unique values), making binary encoding impractical, and using one-hot encoding would be overly burdensome. Additionally, we chose frequency encoding because we want to replace a value with how often that value appears compared to other unique values."
   ]
  },
  {
   "cell_type": "code",
   "execution_count": 41,
   "metadata": {
    "id": "NxXnUovPNZ7u"
   },
   "outputs": [],
   "source": [
    "#Create a Frequency Encoding Function\n",
    "def frequency_encoding(data, features):\n",
    "    freq_encoding = data.groupby(features).size() / len(data)\n",
    "    return freq_encoding\n"
   ]
  },
  {
   "cell_type": "code",
   "execution_count": 42,
   "metadata": {
    "id": "oCp_uLcYN0TH"
   },
   "outputs": [],
   "source": [
    "df['Payment Currency'] = df['Payment Currency'].map(frequency_encoding(df,df['Payment Currency']))"
   ]
  },
  {
   "cell_type": "code",
   "execution_count": 43,
   "metadata": {
    "id": "8_BaifXcN51O"
   },
   "outputs": [],
   "source": [
    "df['Receiving Currency'] = df['Receiving Currency'].map(frequency_encoding(df,df['Receiving Currency']))"
   ]
  },
  {
   "cell_type": "code",
   "execution_count": 44,
   "metadata": {
    "id": "jjy0MxfjN8eR"
   },
   "outputs": [],
   "source": [
    "\n",
    "#One hot encoding For Payment Format\n",
    "df = pd.get_dummies(df,columns=['Payment Format'])"
   ]
  },
  {
   "cell_type": "code",
   "execution_count": 45,
   "metadata": {
    "colab": {
     "base_uri": "https://localhost:8080/",
     "height": 348
    },
    "id": "UkJrKzoHN_8h",
    "outputId": "afca0159-fabb-4264-f7b3-4885d4795604"
   },
   "outputs": [
    {
     "data": {
      "text/html": [
       "<div>\n",
       "<style scoped>\n",
       "    .dataframe tbody tr th:only-of-type {\n",
       "        vertical-align: middle;\n",
       "    }\n",
       "\n",
       "    .dataframe tbody tr th {\n",
       "        vertical-align: top;\n",
       "    }\n",
       "\n",
       "    .dataframe thead th {\n",
       "        text-align: right;\n",
       "    }\n",
       "</style>\n",
       "<table border=\"1\" class=\"dataframe\">\n",
       "  <thead>\n",
       "    <tr style=\"text-align: right;\">\n",
       "      <th></th>\n",
       "      <th>Timestamp</th>\n",
       "      <th>From Bank</th>\n",
       "      <th>To Bank</th>\n",
       "      <th>Amount Received</th>\n",
       "      <th>Receiving Currency</th>\n",
       "      <th>Amount Paid</th>\n",
       "      <th>Payment Currency</th>\n",
       "      <th>Is Laundering</th>\n",
       "      <th>Hour</th>\n",
       "      <th>Minutes</th>\n",
       "      <th>Different Account</th>\n",
       "      <th>Payment Format_ACH</th>\n",
       "      <th>Payment Format_Bitcoin</th>\n",
       "      <th>Payment Format_Cash</th>\n",
       "      <th>Payment Format_Cheque</th>\n",
       "      <th>Payment Format_Credit Card</th>\n",
       "      <th>Payment Format_Reinvestment</th>\n",
       "      <th>Payment Format_Wire</th>\n",
       "    </tr>\n",
       "  </thead>\n",
       "  <tbody>\n",
       "    <tr>\n",
       "      <th>0</th>\n",
       "      <td>2022-08-21 22:00:00</td>\n",
       "      <td>1148</td>\n",
       "      <td>519</td>\n",
       "      <td>2692.88</td>\n",
       "      <td>0.102200</td>\n",
       "      <td>2692.88</td>\n",
       "      <td>0.102904</td>\n",
       "      <td>1</td>\n",
       "      <td>22</td>\n",
       "      <td>0</td>\n",
       "      <td>1</td>\n",
       "      <td>True</td>\n",
       "      <td>False</td>\n",
       "      <td>False</td>\n",
       "      <td>False</td>\n",
       "      <td>False</td>\n",
       "      <td>False</td>\n",
       "      <td>False</td>\n",
       "    </tr>\n",
       "    <tr>\n",
       "      <th>1</th>\n",
       "      <td>2022-08-01 00:15:00</td>\n",
       "      <td>28920</td>\n",
       "      <td>28920</td>\n",
       "      <td>11430722.09</td>\n",
       "      <td>0.781078</td>\n",
       "      <td>11430722.09</td>\n",
       "      <td>0.780342</td>\n",
       "      <td>0</td>\n",
       "      <td>0</td>\n",
       "      <td>15</td>\n",
       "      <td>0</td>\n",
       "      <td>False</td>\n",
       "      <td>False</td>\n",
       "      <td>False</td>\n",
       "      <td>False</td>\n",
       "      <td>False</td>\n",
       "      <td>True</td>\n",
       "      <td>False</td>\n",
       "    </tr>\n",
       "    <tr>\n",
       "      <th>2</th>\n",
       "      <td>2022-08-01 00:14:00</td>\n",
       "      <td>23294</td>\n",
       "      <td>23294</td>\n",
       "      <td>4.34</td>\n",
       "      <td>0.781078</td>\n",
       "      <td>4.34</td>\n",
       "      <td>0.780342</td>\n",
       "      <td>0</td>\n",
       "      <td>0</td>\n",
       "      <td>14</td>\n",
       "      <td>0</td>\n",
       "      <td>False</td>\n",
       "      <td>False</td>\n",
       "      <td>False</td>\n",
       "      <td>False</td>\n",
       "      <td>False</td>\n",
       "      <td>True</td>\n",
       "      <td>False</td>\n",
       "    </tr>\n",
       "    <tr>\n",
       "      <th>3</th>\n",
       "      <td>2022-08-01 00:02:00</td>\n",
       "      <td>19700</td>\n",
       "      <td>19700</td>\n",
       "      <td>268332.58</td>\n",
       "      <td>0.781078</td>\n",
       "      <td>268332.58</td>\n",
       "      <td>0.780342</td>\n",
       "      <td>0</td>\n",
       "      <td>0</td>\n",
       "      <td>2</td>\n",
       "      <td>0</td>\n",
       "      <td>False</td>\n",
       "      <td>False</td>\n",
       "      <td>False</td>\n",
       "      <td>False</td>\n",
       "      <td>False</td>\n",
       "      <td>True</td>\n",
       "      <td>False</td>\n",
       "    </tr>\n",
       "    <tr>\n",
       "      <th>4</th>\n",
       "      <td>2022-08-07 15:11:00</td>\n",
       "      <td>1601</td>\n",
       "      <td>155152</td>\n",
       "      <td>1411210.98</td>\n",
       "      <td>0.011528</td>\n",
       "      <td>1411210.98</td>\n",
       "      <td>0.011528</td>\n",
       "      <td>1</td>\n",
       "      <td>15</td>\n",
       "      <td>11</td>\n",
       "      <td>1</td>\n",
       "      <td>True</td>\n",
       "      <td>False</td>\n",
       "      <td>False</td>\n",
       "      <td>False</td>\n",
       "      <td>False</td>\n",
       "      <td>False</td>\n",
       "      <td>False</td>\n",
       "    </tr>\n",
       "  </tbody>\n",
       "</table>\n",
       "</div>"
      ],
      "text/plain": [
       "            Timestamp  From Bank  To Bank  Amount Received  \\\n",
       "0 2022-08-21 22:00:00       1148      519          2692.88   \n",
       "1 2022-08-01 00:15:00      28920    28920      11430722.09   \n",
       "2 2022-08-01 00:14:00      23294    23294             4.34   \n",
       "3 2022-08-01 00:02:00      19700    19700        268332.58   \n",
       "4 2022-08-07 15:11:00       1601   155152       1411210.98   \n",
       "\n",
       "   Receiving Currency  Amount Paid  Payment Currency  Is Laundering  Hour  \\\n",
       "0            0.102200      2692.88          0.102904              1    22   \n",
       "1            0.781078  11430722.09          0.780342              0     0   \n",
       "2            0.781078         4.34          0.780342              0     0   \n",
       "3            0.781078    268332.58          0.780342              0     0   \n",
       "4            0.011528   1411210.98          0.011528              1    15   \n",
       "\n",
       "   Minutes  Different Account  Payment Format_ACH  Payment Format_Bitcoin  \\\n",
       "0        0                  1                True                   False   \n",
       "1       15                  0               False                   False   \n",
       "2       14                  0               False                   False   \n",
       "3        2                  0               False                   False   \n",
       "4       11                  1                True                   False   \n",
       "\n",
       "   Payment Format_Cash  Payment Format_Cheque  Payment Format_Credit Card  \\\n",
       "0                False                  False                       False   \n",
       "1                False                  False                       False   \n",
       "2                False                  False                       False   \n",
       "3                False                  False                       False   \n",
       "4                False                  False                       False   \n",
       "\n",
       "   Payment Format_Reinvestment  Payment Format_Wire  \n",
       "0                        False                False  \n",
       "1                         True                False  \n",
       "2                         True                False  \n",
       "3                         True                False  \n",
       "4                        False                False  "
      ]
     },
     "execution_count": 45,
     "metadata": {},
     "output_type": "execute_result"
    }
   ],
   "source": [
    "df.head()"
   ]
  },
  {
   "cell_type": "code",
   "execution_count": 46,
   "metadata": {
    "colab": {
     "base_uri": "https://localhost:8080/"
    },
    "id": "fMIXt8HhOCYi",
    "outputId": "12b21f61-bdc5-4930-b107-47f276c4ad59"
   },
   "outputs": [
    {
     "data": {
      "text/plain": [
       "(157622, 18)"
      ]
     },
     "execution_count": 46,
     "metadata": {},
     "output_type": "execute_result"
    }
   ],
   "source": [
    "df.shape\n"
   ]
  },
  {
   "cell_type": "code",
   "execution_count": 47,
   "metadata": {
    "colab": {
     "base_uri": "https://localhost:8080/"
    },
    "id": "v0pQBbKwOSu_",
    "outputId": "678b88b6-4c94-41f7-e8e9-c1016d782653"
   },
   "outputs": [
    {
     "data": {
      "text/plain": [
       "(157622, 18)"
      ]
     },
     "execution_count": 47,
     "metadata": {},
     "output_type": "execute_result"
    }
   ],
   "source": [
    "df.shape"
   ]
  },
  {
   "cell_type": "code",
   "execution_count": 48,
   "metadata": {
    "colab": {
     "base_uri": "https://localhost:8080/"
    },
    "id": "R98W7biIOdf8",
    "outputId": "a5909338-6f22-4868-8b02-e9bae78d637c"
   },
   "outputs": [
    {
     "name": "stdout",
     "output_type": "stream",
     "text": [
      "<class 'pandas.core.frame.DataFrame'>\n",
      "RangeIndex: 157622 entries, 0 to 157621\n",
      "Data columns (total 18 columns):\n",
      " #   Column                       Non-Null Count   Dtype         \n",
      "---  ------                       --------------   -----         \n",
      " 0   Timestamp                    157622 non-null  datetime64[ns]\n",
      " 1   From Bank                    157622 non-null  int64         \n",
      " 2   To Bank                      157622 non-null  int64         \n",
      " 3   Amount Received              157622 non-null  float64       \n",
      " 4   Receiving Currency           157622 non-null  float64       \n",
      " 5   Amount Paid                  157622 non-null  float64       \n",
      " 6   Payment Currency             157622 non-null  float64       \n",
      " 7   Is Laundering                157622 non-null  int64         \n",
      " 8   Hour                         157622 non-null  int32         \n",
      " 9   Minutes                      157622 non-null  int32         \n",
      " 10  Different Account            157622 non-null  int32         \n",
      " 11  Payment Format_ACH           157622 non-null  bool          \n",
      " 12  Payment Format_Bitcoin       157622 non-null  bool          \n",
      " 13  Payment Format_Cash          157622 non-null  bool          \n",
      " 14  Payment Format_Cheque        157622 non-null  bool          \n",
      " 15  Payment Format_Credit Card   157622 non-null  bool          \n",
      " 16  Payment Format_Reinvestment  157622 non-null  bool          \n",
      " 17  Payment Format_Wire          157622 non-null  bool          \n",
      "dtypes: bool(7), datetime64[ns](1), float64(4), int32(3), int64(3)\n",
      "memory usage: 12.5 MB\n"
     ]
    }
   ],
   "source": [
    "df.info()"
   ]
  },
  {
   "cell_type": "code",
   "execution_count": 49,
   "metadata": {
    "id": "AlKZGHCNOfwg"
   },
   "outputs": [],
   "source": [
    "df.drop('Timestamp',axis=1,inplace=True)"
   ]
  },
  {
   "cell_type": "code",
   "execution_count": 50,
   "metadata": {
    "id": "QJPtrUX9OkKL"
   },
   "outputs": [],
   "source": [
    "# Splitting Data\n",
    "x = df.drop('Is Laundering',axis=1)\n",
    "y = df['Is Laundering']\n",
    "x_train,x_test,y_train,y_test = train_test_split(x,y,test_size=0.2,random_state=42,stratify=y)"
   ]
  },
  {
   "cell_type": "code",
   "execution_count": 51,
   "metadata": {
    "id": "ZAqtM6kUOnU4"
   },
   "outputs": [],
   "source": [
    "#Logistic Regression Model: Default\n",
    "\n",
    "#Since in this money laundering case, we aim to predict whether a transaction falls into the category of money laundering or not, the model we build is a classification model. The goal is for the model to classify whether a transaction falls into the category of money laundering or not. The first model we build is a Logistic Regression model."
   ]
  },
  {
   "cell_type": "code",
   "execution_count": 52,
   "metadata": {
    "colab": {
     "base_uri": "https://localhost:8080/",
     "height": 75
    },
    "id": "OPXmRA70QAZv",
    "outputId": "535a9e60-82ae-4462-ac9a-7cb7d0ae9efb"
   },
   "outputs": [
    {
     "data": {
      "text/html": [
       "<style>#sk-container-id-1 {color: black;}#sk-container-id-1 pre{padding: 0;}#sk-container-id-1 div.sk-toggleable {background-color: white;}#sk-container-id-1 label.sk-toggleable__label {cursor: pointer;display: block;width: 100%;margin-bottom: 0;padding: 0.3em;box-sizing: border-box;text-align: center;}#sk-container-id-1 label.sk-toggleable__label-arrow:before {content: \"▸\";float: left;margin-right: 0.25em;color: #696969;}#sk-container-id-1 label.sk-toggleable__label-arrow:hover:before {color: black;}#sk-container-id-1 div.sk-estimator:hover label.sk-toggleable__label-arrow:before {color: black;}#sk-container-id-1 div.sk-toggleable__content {max-height: 0;max-width: 0;overflow: hidden;text-align: left;background-color: #f0f8ff;}#sk-container-id-1 div.sk-toggleable__content pre {margin: 0.2em;color: black;border-radius: 0.25em;background-color: #f0f8ff;}#sk-container-id-1 input.sk-toggleable__control:checked~div.sk-toggleable__content {max-height: 200px;max-width: 100%;overflow: auto;}#sk-container-id-1 input.sk-toggleable__control:checked~label.sk-toggleable__label-arrow:before {content: \"▾\";}#sk-container-id-1 div.sk-estimator input.sk-toggleable__control:checked~label.sk-toggleable__label {background-color: #d4ebff;}#sk-container-id-1 div.sk-label input.sk-toggleable__control:checked~label.sk-toggleable__label {background-color: #d4ebff;}#sk-container-id-1 input.sk-hidden--visually {border: 0;clip: rect(1px 1px 1px 1px);clip: rect(1px, 1px, 1px, 1px);height: 1px;margin: -1px;overflow: hidden;padding: 0;position: absolute;width: 1px;}#sk-container-id-1 div.sk-estimator {font-family: monospace;background-color: #f0f8ff;border: 1px dotted black;border-radius: 0.25em;box-sizing: border-box;margin-bottom: 0.5em;}#sk-container-id-1 div.sk-estimator:hover {background-color: #d4ebff;}#sk-container-id-1 div.sk-parallel-item::after {content: \"\";width: 100%;border-bottom: 1px solid gray;flex-grow: 1;}#sk-container-id-1 div.sk-label:hover label.sk-toggleable__label {background-color: #d4ebff;}#sk-container-id-1 div.sk-serial::before {content: \"\";position: absolute;border-left: 1px solid gray;box-sizing: border-box;top: 0;bottom: 0;left: 50%;z-index: 0;}#sk-container-id-1 div.sk-serial {display: flex;flex-direction: column;align-items: center;background-color: white;padding-right: 0.2em;padding-left: 0.2em;position: relative;}#sk-container-id-1 div.sk-item {position: relative;z-index: 1;}#sk-container-id-1 div.sk-parallel {display: flex;align-items: stretch;justify-content: center;background-color: white;position: relative;}#sk-container-id-1 div.sk-item::before, #sk-container-id-1 div.sk-parallel-item::before {content: \"\";position: absolute;border-left: 1px solid gray;box-sizing: border-box;top: 0;bottom: 0;left: 50%;z-index: -1;}#sk-container-id-1 div.sk-parallel-item {display: flex;flex-direction: column;z-index: 1;position: relative;background-color: white;}#sk-container-id-1 div.sk-parallel-item:first-child::after {align-self: flex-end;width: 50%;}#sk-container-id-1 div.sk-parallel-item:last-child::after {align-self: flex-start;width: 50%;}#sk-container-id-1 div.sk-parallel-item:only-child::after {width: 0;}#sk-container-id-1 div.sk-dashed-wrapped {border: 1px dashed gray;margin: 0 0.4em 0.5em 0.4em;box-sizing: border-box;padding-bottom: 0.4em;background-color: white;}#sk-container-id-1 div.sk-label label {font-family: monospace;font-weight: bold;display: inline-block;line-height: 1.2em;}#sk-container-id-1 div.sk-label-container {text-align: center;}#sk-container-id-1 div.sk-container {/* jupyter's `normalize.less` sets `[hidden] { display: none; }` but bootstrap.min.css set `[hidden] { display: none !important; }` so we also need the `!important` here to be able to override the default hidden behavior on the sphinx rendered scikit-learn.org. See: https://github.com/scikit-learn/scikit-learn/issues/21755 */display: inline-block !important;position: relative;}#sk-container-id-1 div.sk-text-repr-fallback {display: none;}</style><div id=\"sk-container-id-1\" class=\"sk-top-container\"><div class=\"sk-text-repr-fallback\"><pre>LogisticRegression()</pre><b>In a Jupyter environment, please rerun this cell to show the HTML representation or trust the notebook. <br />On GitHub, the HTML representation is unable to render, please try loading this page with nbviewer.org.</b></div><div class=\"sk-container\" hidden><div class=\"sk-item\"><div class=\"sk-estimator sk-toggleable\"><input class=\"sk-toggleable__control sk-hidden--visually\" id=\"sk-estimator-id-1\" type=\"checkbox\" checked><label for=\"sk-estimator-id-1\" class=\"sk-toggleable__label sk-toggleable__label-arrow\">LogisticRegression</label><div class=\"sk-toggleable__content\"><pre>LogisticRegression()</pre></div></div></div></div></div>"
      ],
      "text/plain": [
       "LogisticRegression()"
      ]
     },
     "execution_count": 52,
     "metadata": {},
     "output_type": "execute_result"
    }
   ],
   "source": [
    "model_log = LogisticRegression()\n",
    "model_log.fit(x_train,y_train)"
   ]
  },
  {
   "cell_type": "code",
   "execution_count": 53,
   "metadata": {
    "colab": {
     "base_uri": "https://localhost:8080/"
    },
    "id": "TGtVfLpnQbwO",
    "outputId": "bba703e2-bebe-454c-d970-0c7504280fd7"
   },
   "outputs": [
    {
     "data": {
      "text/plain": [
       "0.3655828707375099"
      ]
     },
     "execution_count": 53,
     "metadata": {},
     "output_type": "execute_result"
    }
   ],
   "source": [
    "## Viewing the accuracy of the model\n",
    "model_log.score(x_test, y_test)"
   ]
  },
  {
   "cell_type": "code",
   "execution_count": 54,
   "metadata": {
    "id": "cSRh8TdjRZoF"
   },
   "outputs": [],
   "source": [
    "y_predict_log=model_log.predict(x_test)"
   ]
  },
  {
   "cell_type": "code",
   "execution_count": 55,
   "metadata": {
    "colab": {
     "base_uri": "https://localhost:8080/"
    },
    "id": "GyX_JKbYRdvA",
    "outputId": "6085d5b8-9a6f-4aa3-beb7-c43777c0f63c"
   },
   "outputs": [
    {
     "name": "stdout",
     "output_type": "stream",
     "text": [
      "\n",
      "Logistic Regression Classification Report (Default)\n",
      "\n",
      "              precision    recall  f1-score   support\n",
      "\n",
      "           0       0.00      0.00      0.00     20000\n",
      "           1       0.37      1.00      0.54     11525\n",
      "\n",
      "    accuracy                           0.37     31525\n",
      "   macro avg       0.18      0.50      0.27     31525\n",
      "weighted avg       0.13      0.37      0.20     31525\n",
      "\n"
     ]
    },
    {
     "name": "stderr",
     "output_type": "stream",
     "text": [
      "C:\\Users\\LENOVO\\anaconda3\\Lib\\site-packages\\sklearn\\metrics\\_classification.py:1469: UndefinedMetricWarning: Precision and F-score are ill-defined and being set to 0.0 in labels with no predicted samples. Use `zero_division` parameter to control this behavior.\n",
      "  _warn_prf(average, modifier, msg_start, len(result))\n",
      "C:\\Users\\LENOVO\\anaconda3\\Lib\\site-packages\\sklearn\\metrics\\_classification.py:1469: UndefinedMetricWarning: Precision and F-score are ill-defined and being set to 0.0 in labels with no predicted samples. Use `zero_division` parameter to control this behavior.\n",
      "  _warn_prf(average, modifier, msg_start, len(result))\n",
      "C:\\Users\\LENOVO\\anaconda3\\Lib\\site-packages\\sklearn\\metrics\\_classification.py:1469: UndefinedMetricWarning: Precision and F-score are ill-defined and being set to 0.0 in labels with no predicted samples. Use `zero_division` parameter to control this behavior.\n",
      "  _warn_prf(average, modifier, msg_start, len(result))\n"
     ]
    }
   ],
   "source": [
    "#python\n",
    "# Displaying the report to assess the model's performance\n",
    "\n",
    "\n",
    "print('\\nLogistic Regression Classification Report (Default)\\n')\n",
    "print(classification_report(y_test, y_predict_log))\n"
   ]
  },
  {
   "cell_type": "code",
   "execution_count": null,
   "metadata": {
    "id": "V7X8j3hrR0mL"
   },
   "outputs": [],
   "source": []
  },
  {
   "cell_type": "markdown",
   "metadata": {
    "id": "8sglDfkQSQdd"
   },
   "source": [
    "Naive Bayes Model: Default\n",
    "\n",
    "Although the Logistic Regression model above has been optimized with parameter tuning, its accuracy remains far below (36%). Therefore, we conclude that in this case, we cannot use the Logistic Regression model. We continue the search for the best model with the Naive Bayes model.\n",
    "\n"
   ]
  },
  {
   "cell_type": "code",
   "execution_count": 56,
   "metadata": {
    "colab": {
     "base_uri": "https://localhost:8080/",
     "height": 75
    },
    "id": "r_qCJrLmSRjR",
    "outputId": "04fd27e3-b8b2-4a34-eeed-9e7787f6425f"
   },
   "outputs": [
    {
     "data": {
      "text/html": [
       "<style>#sk-container-id-2 {color: black;}#sk-container-id-2 pre{padding: 0;}#sk-container-id-2 div.sk-toggleable {background-color: white;}#sk-container-id-2 label.sk-toggleable__label {cursor: pointer;display: block;width: 100%;margin-bottom: 0;padding: 0.3em;box-sizing: border-box;text-align: center;}#sk-container-id-2 label.sk-toggleable__label-arrow:before {content: \"▸\";float: left;margin-right: 0.25em;color: #696969;}#sk-container-id-2 label.sk-toggleable__label-arrow:hover:before {color: black;}#sk-container-id-2 div.sk-estimator:hover label.sk-toggleable__label-arrow:before {color: black;}#sk-container-id-2 div.sk-toggleable__content {max-height: 0;max-width: 0;overflow: hidden;text-align: left;background-color: #f0f8ff;}#sk-container-id-2 div.sk-toggleable__content pre {margin: 0.2em;color: black;border-radius: 0.25em;background-color: #f0f8ff;}#sk-container-id-2 input.sk-toggleable__control:checked~div.sk-toggleable__content {max-height: 200px;max-width: 100%;overflow: auto;}#sk-container-id-2 input.sk-toggleable__control:checked~label.sk-toggleable__label-arrow:before {content: \"▾\";}#sk-container-id-2 div.sk-estimator input.sk-toggleable__control:checked~label.sk-toggleable__label {background-color: #d4ebff;}#sk-container-id-2 div.sk-label input.sk-toggleable__control:checked~label.sk-toggleable__label {background-color: #d4ebff;}#sk-container-id-2 input.sk-hidden--visually {border: 0;clip: rect(1px 1px 1px 1px);clip: rect(1px, 1px, 1px, 1px);height: 1px;margin: -1px;overflow: hidden;padding: 0;position: absolute;width: 1px;}#sk-container-id-2 div.sk-estimator {font-family: monospace;background-color: #f0f8ff;border: 1px dotted black;border-radius: 0.25em;box-sizing: border-box;margin-bottom: 0.5em;}#sk-container-id-2 div.sk-estimator:hover {background-color: #d4ebff;}#sk-container-id-2 div.sk-parallel-item::after {content: \"\";width: 100%;border-bottom: 1px solid gray;flex-grow: 1;}#sk-container-id-2 div.sk-label:hover label.sk-toggleable__label {background-color: #d4ebff;}#sk-container-id-2 div.sk-serial::before {content: \"\";position: absolute;border-left: 1px solid gray;box-sizing: border-box;top: 0;bottom: 0;left: 50%;z-index: 0;}#sk-container-id-2 div.sk-serial {display: flex;flex-direction: column;align-items: center;background-color: white;padding-right: 0.2em;padding-left: 0.2em;position: relative;}#sk-container-id-2 div.sk-item {position: relative;z-index: 1;}#sk-container-id-2 div.sk-parallel {display: flex;align-items: stretch;justify-content: center;background-color: white;position: relative;}#sk-container-id-2 div.sk-item::before, #sk-container-id-2 div.sk-parallel-item::before {content: \"\";position: absolute;border-left: 1px solid gray;box-sizing: border-box;top: 0;bottom: 0;left: 50%;z-index: -1;}#sk-container-id-2 div.sk-parallel-item {display: flex;flex-direction: column;z-index: 1;position: relative;background-color: white;}#sk-container-id-2 div.sk-parallel-item:first-child::after {align-self: flex-end;width: 50%;}#sk-container-id-2 div.sk-parallel-item:last-child::after {align-self: flex-start;width: 50%;}#sk-container-id-2 div.sk-parallel-item:only-child::after {width: 0;}#sk-container-id-2 div.sk-dashed-wrapped {border: 1px dashed gray;margin: 0 0.4em 0.5em 0.4em;box-sizing: border-box;padding-bottom: 0.4em;background-color: white;}#sk-container-id-2 div.sk-label label {font-family: monospace;font-weight: bold;display: inline-block;line-height: 1.2em;}#sk-container-id-2 div.sk-label-container {text-align: center;}#sk-container-id-2 div.sk-container {/* jupyter's `normalize.less` sets `[hidden] { display: none; }` but bootstrap.min.css set `[hidden] { display: none !important; }` so we also need the `!important` here to be able to override the default hidden behavior on the sphinx rendered scikit-learn.org. See: https://github.com/scikit-learn/scikit-learn/issues/21755 */display: inline-block !important;position: relative;}#sk-container-id-2 div.sk-text-repr-fallback {display: none;}</style><div id=\"sk-container-id-2\" class=\"sk-top-container\"><div class=\"sk-text-repr-fallback\"><pre>MultinomialNB()</pre><b>In a Jupyter environment, please rerun this cell to show the HTML representation or trust the notebook. <br />On GitHub, the HTML representation is unable to render, please try loading this page with nbviewer.org.</b></div><div class=\"sk-container\" hidden><div class=\"sk-item\"><div class=\"sk-estimator sk-toggleable\"><input class=\"sk-toggleable__control sk-hidden--visually\" id=\"sk-estimator-id-2\" type=\"checkbox\" checked><label for=\"sk-estimator-id-2\" class=\"sk-toggleable__label sk-toggleable__label-arrow\">MultinomialNB</label><div class=\"sk-toggleable__content\"><pre>MultinomialNB()</pre></div></div></div></div></div>"
      ],
      "text/plain": [
       "MultinomialNB()"
      ]
     },
     "execution_count": 56,
     "metadata": {},
     "output_type": "execute_result"
    }
   ],
   "source": [
    "model_nb =MultinomialNB()\n",
    "model_nb.fit(x_train, y_train)"
   ]
  },
  {
   "cell_type": "code",
   "execution_count": 57,
   "metadata": {
    "id": "EsI2EOnyS0Ff"
   },
   "outputs": [],
   "source": [
    "y_predict_nb = model_nb.predict(x_test)"
   ]
  },
  {
   "cell_type": "code",
   "execution_count": 58,
   "metadata": {
    "colab": {
     "base_uri": "https://localhost:8080/"
    },
    "id": "od5uATVrV7x3",
    "outputId": "1fb466e0-d70c-489f-885e-ff184b357219"
   },
   "outputs": [
    {
     "data": {
      "text/plain": [
       "0.5973354480570976"
      ]
     },
     "execution_count": 58,
     "metadata": {},
     "output_type": "execute_result"
    }
   ],
   "source": [
    "model_nb.score(x_test,y_test)"
   ]
  },
  {
   "cell_type": "code",
   "execution_count": 59,
   "metadata": {
    "colab": {
     "base_uri": "https://localhost:8080/"
    },
    "id": "D-ZJMovtVYGC",
    "outputId": "08b61df5-6c02-41c8-9e46-bd5993a68d13"
   },
   "outputs": [
    {
     "name": "stdout",
     "output_type": "stream",
     "text": [
      "\n",
      "NB Classification Report (Default)\n",
      "\n",
      "              precision    recall  f1-score   support\n",
      "\n",
      "           0       0.63      0.91      0.74     20000\n",
      "           1       0.25      0.05      0.08     11525\n",
      "\n",
      "    accuracy                           0.60     31525\n",
      "   macro avg       0.44      0.48      0.41     31525\n",
      "weighted avg       0.49      0.60      0.50     31525\n",
      "\n"
     ]
    }
   ],
   "source": [
    "print('\\nNB Classification Report (Default)\\n')\n",
    "print(classification_report(y_test, y_predict_nb))"
   ]
  },
  {
   "cell_type": "code",
   "execution_count": null,
   "metadata": {
    "id": "Z9fHg4YVVh-h"
   },
   "outputs": [],
   "source": []
  },
  {
   "cell_type": "markdown",
   "metadata": {
    "id": "ftW8xd_7Ygfs"
   },
   "source": [
    "## # Decision Tree Model: Default\n",
    "\n",
    "The KNN model above already has a sufficiently high accuracy of 89%. However, our group 'Lah Menang?' wants to explore whether there is a better model than the KNN model above for this case. Therefore, we are trying to build the final model using Decision Tree."
   ]
  },
  {
   "cell_type": "code",
   "execution_count": 60,
   "metadata": {
    "colab": {
     "base_uri": "https://localhost:8080/",
     "height": 75
    },
    "id": "TcSEU-XQYhET",
    "outputId": "da5dfe2f-3026-4eb3-a9ae-32fe58788d0b"
   },
   "outputs": [
    {
     "data": {
      "text/html": [
       "<style>#sk-container-id-3 {color: black;}#sk-container-id-3 pre{padding: 0;}#sk-container-id-3 div.sk-toggleable {background-color: white;}#sk-container-id-3 label.sk-toggleable__label {cursor: pointer;display: block;width: 100%;margin-bottom: 0;padding: 0.3em;box-sizing: border-box;text-align: center;}#sk-container-id-3 label.sk-toggleable__label-arrow:before {content: \"▸\";float: left;margin-right: 0.25em;color: #696969;}#sk-container-id-3 label.sk-toggleable__label-arrow:hover:before {color: black;}#sk-container-id-3 div.sk-estimator:hover label.sk-toggleable__label-arrow:before {color: black;}#sk-container-id-3 div.sk-toggleable__content {max-height: 0;max-width: 0;overflow: hidden;text-align: left;background-color: #f0f8ff;}#sk-container-id-3 div.sk-toggleable__content pre {margin: 0.2em;color: black;border-radius: 0.25em;background-color: #f0f8ff;}#sk-container-id-3 input.sk-toggleable__control:checked~div.sk-toggleable__content {max-height: 200px;max-width: 100%;overflow: auto;}#sk-container-id-3 input.sk-toggleable__control:checked~label.sk-toggleable__label-arrow:before {content: \"▾\";}#sk-container-id-3 div.sk-estimator input.sk-toggleable__control:checked~label.sk-toggleable__label {background-color: #d4ebff;}#sk-container-id-3 div.sk-label input.sk-toggleable__control:checked~label.sk-toggleable__label {background-color: #d4ebff;}#sk-container-id-3 input.sk-hidden--visually {border: 0;clip: rect(1px 1px 1px 1px);clip: rect(1px, 1px, 1px, 1px);height: 1px;margin: -1px;overflow: hidden;padding: 0;position: absolute;width: 1px;}#sk-container-id-3 div.sk-estimator {font-family: monospace;background-color: #f0f8ff;border: 1px dotted black;border-radius: 0.25em;box-sizing: border-box;margin-bottom: 0.5em;}#sk-container-id-3 div.sk-estimator:hover {background-color: #d4ebff;}#sk-container-id-3 div.sk-parallel-item::after {content: \"\";width: 100%;border-bottom: 1px solid gray;flex-grow: 1;}#sk-container-id-3 div.sk-label:hover label.sk-toggleable__label {background-color: #d4ebff;}#sk-container-id-3 div.sk-serial::before {content: \"\";position: absolute;border-left: 1px solid gray;box-sizing: border-box;top: 0;bottom: 0;left: 50%;z-index: 0;}#sk-container-id-3 div.sk-serial {display: flex;flex-direction: column;align-items: center;background-color: white;padding-right: 0.2em;padding-left: 0.2em;position: relative;}#sk-container-id-3 div.sk-item {position: relative;z-index: 1;}#sk-container-id-3 div.sk-parallel {display: flex;align-items: stretch;justify-content: center;background-color: white;position: relative;}#sk-container-id-3 div.sk-item::before, #sk-container-id-3 div.sk-parallel-item::before {content: \"\";position: absolute;border-left: 1px solid gray;box-sizing: border-box;top: 0;bottom: 0;left: 50%;z-index: -1;}#sk-container-id-3 div.sk-parallel-item {display: flex;flex-direction: column;z-index: 1;position: relative;background-color: white;}#sk-container-id-3 div.sk-parallel-item:first-child::after {align-self: flex-end;width: 50%;}#sk-container-id-3 div.sk-parallel-item:last-child::after {align-self: flex-start;width: 50%;}#sk-container-id-3 div.sk-parallel-item:only-child::after {width: 0;}#sk-container-id-3 div.sk-dashed-wrapped {border: 1px dashed gray;margin: 0 0.4em 0.5em 0.4em;box-sizing: border-box;padding-bottom: 0.4em;background-color: white;}#sk-container-id-3 div.sk-label label {font-family: monospace;font-weight: bold;display: inline-block;line-height: 1.2em;}#sk-container-id-3 div.sk-label-container {text-align: center;}#sk-container-id-3 div.sk-container {/* jupyter's `normalize.less` sets `[hidden] { display: none; }` but bootstrap.min.css set `[hidden] { display: none !important; }` so we also need the `!important` here to be able to override the default hidden behavior on the sphinx rendered scikit-learn.org. See: https://github.com/scikit-learn/scikit-learn/issues/21755 */display: inline-block !important;position: relative;}#sk-container-id-3 div.sk-text-repr-fallback {display: none;}</style><div id=\"sk-container-id-3\" class=\"sk-top-container\"><div class=\"sk-text-repr-fallback\"><pre>DecisionTreeClassifier()</pre><b>In a Jupyter environment, please rerun this cell to show the HTML representation or trust the notebook. <br />On GitHub, the HTML representation is unable to render, please try loading this page with nbviewer.org.</b></div><div class=\"sk-container\" hidden><div class=\"sk-item\"><div class=\"sk-estimator sk-toggleable\"><input class=\"sk-toggleable__control sk-hidden--visually\" id=\"sk-estimator-id-3\" type=\"checkbox\" checked><label for=\"sk-estimator-id-3\" class=\"sk-toggleable__label sk-toggleable__label-arrow\">DecisionTreeClassifier</label><div class=\"sk-toggleable__content\"><pre>DecisionTreeClassifier()</pre></div></div></div></div></div>"
      ],
      "text/plain": [
       "DecisionTreeClassifier()"
      ]
     },
     "execution_count": 60,
     "metadata": {},
     "output_type": "execute_result"
    }
   ],
   "source": [
    "model_dct = DecisionTreeClassifier()\n",
    "model_dct.fit(x_train,y_train)"
   ]
  },
  {
   "cell_type": "code",
   "execution_count": 61,
   "metadata": {
    "colab": {
     "base_uri": "https://localhost:8080/"
    },
    "id": "0wU14V0nY7Gc",
    "outputId": "70fa9db3-a8ed-4379-d6b3-3b2e311344ca"
   },
   "outputs": [
    {
     "data": {
      "text/plain": [
       "0.9976526566217288"
      ]
     },
     "execution_count": 61,
     "metadata": {},
     "output_type": "execute_result"
    }
   ],
   "source": [
    "model_dct.score(x_test,y_test)"
   ]
  },
  {
   "cell_type": "code",
   "execution_count": 62,
   "metadata": {
    "id": "tpF22_peZCD-"
   },
   "outputs": [],
   "source": [
    "y_predict_dct = model_dct.predict(x_test)"
   ]
  },
  {
   "cell_type": "code",
   "execution_count": 63,
   "metadata": {
    "colab": {
     "base_uri": "https://localhost:8080/"
    },
    "id": "FnmLFbftZOPK",
    "outputId": "c290252f-1d84-4b63-936c-353e058c3cf0"
   },
   "outputs": [
    {
     "name": "stdout",
     "output_type": "stream",
     "text": [
      "\n",
      "Decision Tree Classification Report (Default)\n",
      "\n",
      "              precision    recall  f1-score   support\n",
      "\n",
      "           0       1.00      1.00      1.00     20000\n",
      "           1       1.00      1.00      1.00     11525\n",
      "\n",
      "    accuracy                           1.00     31525\n",
      "   macro avg       1.00      1.00      1.00     31525\n",
      "weighted avg       1.00      1.00      1.00     31525\n",
      "\n"
     ]
    }
   ],
   "source": [
    "print('\\nDecision Tree Classification Report (Default)\\n')\n",
    "print(classification_report(y_test, y_predict_dct))"
   ]
  },
  {
   "cell_type": "code",
   "execution_count": 64,
   "metadata": {
    "id": "EVgqvdxTZUy8"
   },
   "outputs": [
    {
     "data": {
      "text/plain": [
       "array([[19965,    35],\n",
       "       [   39, 11486]], dtype=int64)"
      ]
     },
     "execution_count": 64,
     "metadata": {},
     "output_type": "execute_result"
    }
   ],
   "source": [
    "# Import Library\n",
    "from sklearn.metrics import confusion_matrix\n",
    "\n",
    "# Membuat confusion matrix\n",
    "conf_matrix_dct = confusion_matrix(y_test, y_predict_dct)\n",
    "conf_matrix_dct"
   ]
  },
  {
   "cell_type": "markdown",
   "metadata": {
    "id": "3Vgt5XIaZmr3"
   },
   "source": [
    "### DT Model Improvement: Parameter Tuning\n",
    "\n",
    "We found that the Decision Tree model achieved very high accuracy, reaching 99.76%. However, we haven't maximized this model yet with parameter tuning. So now, we will perform parameter tuning using GridSearchCV to find the optimal values for the criterion and max_depth parameters that result in maximum accuracy."
   ]
  },
  {
   "cell_type": "code",
   "execution_count": 67,
   "metadata": {},
   "outputs": [
    {
     "data": {
      "text/html": [
       "<style>#sk-container-id-4 {color: black;}#sk-container-id-4 pre{padding: 0;}#sk-container-id-4 div.sk-toggleable {background-color: white;}#sk-container-id-4 label.sk-toggleable__label {cursor: pointer;display: block;width: 100%;margin-bottom: 0;padding: 0.3em;box-sizing: border-box;text-align: center;}#sk-container-id-4 label.sk-toggleable__label-arrow:before {content: \"▸\";float: left;margin-right: 0.25em;color: #696969;}#sk-container-id-4 label.sk-toggleable__label-arrow:hover:before {color: black;}#sk-container-id-4 div.sk-estimator:hover label.sk-toggleable__label-arrow:before {color: black;}#sk-container-id-4 div.sk-toggleable__content {max-height: 0;max-width: 0;overflow: hidden;text-align: left;background-color: #f0f8ff;}#sk-container-id-4 div.sk-toggleable__content pre {margin: 0.2em;color: black;border-radius: 0.25em;background-color: #f0f8ff;}#sk-container-id-4 input.sk-toggleable__control:checked~div.sk-toggleable__content {max-height: 200px;max-width: 100%;overflow: auto;}#sk-container-id-4 input.sk-toggleable__control:checked~label.sk-toggleable__label-arrow:before {content: \"▾\";}#sk-container-id-4 div.sk-estimator input.sk-toggleable__control:checked~label.sk-toggleable__label {background-color: #d4ebff;}#sk-container-id-4 div.sk-label input.sk-toggleable__control:checked~label.sk-toggleable__label {background-color: #d4ebff;}#sk-container-id-4 input.sk-hidden--visually {border: 0;clip: rect(1px 1px 1px 1px);clip: rect(1px, 1px, 1px, 1px);height: 1px;margin: -1px;overflow: hidden;padding: 0;position: absolute;width: 1px;}#sk-container-id-4 div.sk-estimator {font-family: monospace;background-color: #f0f8ff;border: 1px dotted black;border-radius: 0.25em;box-sizing: border-box;margin-bottom: 0.5em;}#sk-container-id-4 div.sk-estimator:hover {background-color: #d4ebff;}#sk-container-id-4 div.sk-parallel-item::after {content: \"\";width: 100%;border-bottom: 1px solid gray;flex-grow: 1;}#sk-container-id-4 div.sk-label:hover label.sk-toggleable__label {background-color: #d4ebff;}#sk-container-id-4 div.sk-serial::before {content: \"\";position: absolute;border-left: 1px solid gray;box-sizing: border-box;top: 0;bottom: 0;left: 50%;z-index: 0;}#sk-container-id-4 div.sk-serial {display: flex;flex-direction: column;align-items: center;background-color: white;padding-right: 0.2em;padding-left: 0.2em;position: relative;}#sk-container-id-4 div.sk-item {position: relative;z-index: 1;}#sk-container-id-4 div.sk-parallel {display: flex;align-items: stretch;justify-content: center;background-color: white;position: relative;}#sk-container-id-4 div.sk-item::before, #sk-container-id-4 div.sk-parallel-item::before {content: \"\";position: absolute;border-left: 1px solid gray;box-sizing: border-box;top: 0;bottom: 0;left: 50%;z-index: -1;}#sk-container-id-4 div.sk-parallel-item {display: flex;flex-direction: column;z-index: 1;position: relative;background-color: white;}#sk-container-id-4 div.sk-parallel-item:first-child::after {align-self: flex-end;width: 50%;}#sk-container-id-4 div.sk-parallel-item:last-child::after {align-self: flex-start;width: 50%;}#sk-container-id-4 div.sk-parallel-item:only-child::after {width: 0;}#sk-container-id-4 div.sk-dashed-wrapped {border: 1px dashed gray;margin: 0 0.4em 0.5em 0.4em;box-sizing: border-box;padding-bottom: 0.4em;background-color: white;}#sk-container-id-4 div.sk-label label {font-family: monospace;font-weight: bold;display: inline-block;line-height: 1.2em;}#sk-container-id-4 div.sk-label-container {text-align: center;}#sk-container-id-4 div.sk-container {/* jupyter's `normalize.less` sets `[hidden] { display: none; }` but bootstrap.min.css set `[hidden] { display: none !important; }` so we also need the `!important` here to be able to override the default hidden behavior on the sphinx rendered scikit-learn.org. See: https://github.com/scikit-learn/scikit-learn/issues/21755 */display: inline-block !important;position: relative;}#sk-container-id-4 div.sk-text-repr-fallback {display: none;}</style><div id=\"sk-container-id-4\" class=\"sk-top-container\"><div class=\"sk-text-repr-fallback\"><pre>GridSearchCV(cv=5, estimator=DecisionTreeClassifier(),\n",
       "             param_grid={&#x27;criterion&#x27;: [&#x27;gini&#x27;, &#x27;entropy&#x27;, &#x27;log_loss&#x27;],\n",
       "                         &#x27;max_depth&#x27;: [2, 4, 6, 8]},\n",
       "             scoring=&#x27;accuracy&#x27;)</pre><b>In a Jupyter environment, please rerun this cell to show the HTML representation or trust the notebook. <br />On GitHub, the HTML representation is unable to render, please try loading this page with nbviewer.org.</b></div><div class=\"sk-container\" hidden><div class=\"sk-item sk-dashed-wrapped\"><div class=\"sk-label-container\"><div class=\"sk-label sk-toggleable\"><input class=\"sk-toggleable__control sk-hidden--visually\" id=\"sk-estimator-id-4\" type=\"checkbox\" ><label for=\"sk-estimator-id-4\" class=\"sk-toggleable__label sk-toggleable__label-arrow\">GridSearchCV</label><div class=\"sk-toggleable__content\"><pre>GridSearchCV(cv=5, estimator=DecisionTreeClassifier(),\n",
       "             param_grid={&#x27;criterion&#x27;: [&#x27;gini&#x27;, &#x27;entropy&#x27;, &#x27;log_loss&#x27;],\n",
       "                         &#x27;max_depth&#x27;: [2, 4, 6, 8]},\n",
       "             scoring=&#x27;accuracy&#x27;)</pre></div></div></div><div class=\"sk-parallel\"><div class=\"sk-parallel-item\"><div class=\"sk-item\"><div class=\"sk-label-container\"><div class=\"sk-label sk-toggleable\"><input class=\"sk-toggleable__control sk-hidden--visually\" id=\"sk-estimator-id-5\" type=\"checkbox\" ><label for=\"sk-estimator-id-5\" class=\"sk-toggleable__label sk-toggleable__label-arrow\">estimator: DecisionTreeClassifier</label><div class=\"sk-toggleable__content\"><pre>DecisionTreeClassifier()</pre></div></div></div><div class=\"sk-serial\"><div class=\"sk-item\"><div class=\"sk-estimator sk-toggleable\"><input class=\"sk-toggleable__control sk-hidden--visually\" id=\"sk-estimator-id-6\" type=\"checkbox\" ><label for=\"sk-estimator-id-6\" class=\"sk-toggleable__label sk-toggleable__label-arrow\">DecisionTreeClassifier</label><div class=\"sk-toggleable__content\"><pre>DecisionTreeClassifier()</pre></div></div></div></div></div></div></div></div></div></div>"
      ],
      "text/plain": [
       "GridSearchCV(cv=5, estimator=DecisionTreeClassifier(),\n",
       "             param_grid={'criterion': ['gini', 'entropy', 'log_loss'],\n",
       "                         'max_depth': [2, 4, 6, 8]},\n",
       "             scoring='accuracy')"
      ]
     },
     "execution_count": 67,
     "metadata": {},
     "output_type": "execute_result"
    }
   ],
   "source": [
    "parameter = {\n",
    "    'criterion':['gini','entropy','log_loss'],\n",
    "    'max_depth':[2,4,6,8]\n",
    "}\n",
    "modeldt = DecisionTreeClassifier()\n",
    "modeldt=GridSearchCV(modeldt, param_grid = parameter, scoring = 'accuracy', cv=5)\n",
    "modeldt.fit(x_train, y_train)"
   ]
  },
  {
   "cell_type": "code",
   "execution_count": 68,
   "metadata": {},
   "outputs": [
    {
     "ename": "NameError",
     "evalue": "name 'modelDT' is not defined",
     "output_type": "error",
     "traceback": [
      "\u001b[1;31m---------------------------------------------------------------------------\u001b[0m",
      "\u001b[1;31mNameError\u001b[0m                                 Traceback (most recent call last)",
      "Cell \u001b[1;32mIn[68], line 2\u001b[0m\n\u001b[0;32m      1\u001b[0m \u001b[38;5;66;03m# Displaying the best parameters and its accuracy\u001b[39;00m\n\u001b[1;32m----> 2\u001b[0m \u001b[38;5;28mprint\u001b[39m(\u001b[38;5;124m\"\u001b[39m\u001b[38;5;124mTuned Hyperparameters:\u001b[39m\u001b[38;5;124m\"\u001b[39m, modelDT\u001b[38;5;241m.\u001b[39mbest_params_)\n\u001b[0;32m      3\u001b[0m \u001b[38;5;28mprint\u001b[39m(\u001b[38;5;124m\"\u001b[39m\u001b[38;5;124mAccuracy:\u001b[39m\u001b[38;5;124m\"\u001b[39m, modelDT\u001b[38;5;241m.\u001b[39mbest_score_)\n",
      "\u001b[1;31mNameError\u001b[0m: name 'modelDT' is not defined"
     ]
    }
   ],
   "source": [
    "# Displaying the best parameters and its accuracy\n",
    "print(\"Tuned Hyperparameters:\", modelDT.best_params_)\n",
    "print(\"Accuracy:\", modelDT.best_score_)"
   ]
  },
  {
   "cell_type": "code",
   "execution_count": 69,
   "metadata": {},
   "outputs": [
    {
     "name": "stdout",
     "output_type": "stream",
     "text": [
      "Tuned Hyperparameters: {'criterion': 'gini', 'max_depth': 8}\n",
      "Accuracy: 0.9980411877441323\n"
     ]
    }
   ],
   "source": [
    "# Displaying the best parameters and its accuracy\n",
    "print(\"Tuned Hyperparameters:\", modeldt.best_params_)\n",
    "print(\"Accuracy:\", modeldt.best_score_)\n"
   ]
  },
  {
   "cell_type": "code",
   "execution_count": 70,
   "metadata": {},
   "outputs": [
    {
     "data": {
      "text/html": [
       "<style>#sk-container-id-5 {color: black;}#sk-container-id-5 pre{padding: 0;}#sk-container-id-5 div.sk-toggleable {background-color: white;}#sk-container-id-5 label.sk-toggleable__label {cursor: pointer;display: block;width: 100%;margin-bottom: 0;padding: 0.3em;box-sizing: border-box;text-align: center;}#sk-container-id-5 label.sk-toggleable__label-arrow:before {content: \"▸\";float: left;margin-right: 0.25em;color: #696969;}#sk-container-id-5 label.sk-toggleable__label-arrow:hover:before {color: black;}#sk-container-id-5 div.sk-estimator:hover label.sk-toggleable__label-arrow:before {color: black;}#sk-container-id-5 div.sk-toggleable__content {max-height: 0;max-width: 0;overflow: hidden;text-align: left;background-color: #f0f8ff;}#sk-container-id-5 div.sk-toggleable__content pre {margin: 0.2em;color: black;border-radius: 0.25em;background-color: #f0f8ff;}#sk-container-id-5 input.sk-toggleable__control:checked~div.sk-toggleable__content {max-height: 200px;max-width: 100%;overflow: auto;}#sk-container-id-5 input.sk-toggleable__control:checked~label.sk-toggleable__label-arrow:before {content: \"▾\";}#sk-container-id-5 div.sk-estimator input.sk-toggleable__control:checked~label.sk-toggleable__label {background-color: #d4ebff;}#sk-container-id-5 div.sk-label input.sk-toggleable__control:checked~label.sk-toggleable__label {background-color: #d4ebff;}#sk-container-id-5 input.sk-hidden--visually {border: 0;clip: rect(1px 1px 1px 1px);clip: rect(1px, 1px, 1px, 1px);height: 1px;margin: -1px;overflow: hidden;padding: 0;position: absolute;width: 1px;}#sk-container-id-5 div.sk-estimator {font-family: monospace;background-color: #f0f8ff;border: 1px dotted black;border-radius: 0.25em;box-sizing: border-box;margin-bottom: 0.5em;}#sk-container-id-5 div.sk-estimator:hover {background-color: #d4ebff;}#sk-container-id-5 div.sk-parallel-item::after {content: \"\";width: 100%;border-bottom: 1px solid gray;flex-grow: 1;}#sk-container-id-5 div.sk-label:hover label.sk-toggleable__label {background-color: #d4ebff;}#sk-container-id-5 div.sk-serial::before {content: \"\";position: absolute;border-left: 1px solid gray;box-sizing: border-box;top: 0;bottom: 0;left: 50%;z-index: 0;}#sk-container-id-5 div.sk-serial {display: flex;flex-direction: column;align-items: center;background-color: white;padding-right: 0.2em;padding-left: 0.2em;position: relative;}#sk-container-id-5 div.sk-item {position: relative;z-index: 1;}#sk-container-id-5 div.sk-parallel {display: flex;align-items: stretch;justify-content: center;background-color: white;position: relative;}#sk-container-id-5 div.sk-item::before, #sk-container-id-5 div.sk-parallel-item::before {content: \"\";position: absolute;border-left: 1px solid gray;box-sizing: border-box;top: 0;bottom: 0;left: 50%;z-index: -1;}#sk-container-id-5 div.sk-parallel-item {display: flex;flex-direction: column;z-index: 1;position: relative;background-color: white;}#sk-container-id-5 div.sk-parallel-item:first-child::after {align-self: flex-end;width: 50%;}#sk-container-id-5 div.sk-parallel-item:last-child::after {align-self: flex-start;width: 50%;}#sk-container-id-5 div.sk-parallel-item:only-child::after {width: 0;}#sk-container-id-5 div.sk-dashed-wrapped {border: 1px dashed gray;margin: 0 0.4em 0.5em 0.4em;box-sizing: border-box;padding-bottom: 0.4em;background-color: white;}#sk-container-id-5 div.sk-label label {font-family: monospace;font-weight: bold;display: inline-block;line-height: 1.2em;}#sk-container-id-5 div.sk-label-container {text-align: center;}#sk-container-id-5 div.sk-container {/* jupyter's `normalize.less` sets `[hidden] { display: none; }` but bootstrap.min.css set `[hidden] { display: none !important; }` so we also need the `!important` here to be able to override the default hidden behavior on the sphinx rendered scikit-learn.org. See: https://github.com/scikit-learn/scikit-learn/issues/21755 */display: inline-block !important;position: relative;}#sk-container-id-5 div.sk-text-repr-fallback {display: none;}</style><div id=\"sk-container-id-5\" class=\"sk-top-container\"><div class=\"sk-text-repr-fallback\"><pre>DecisionTreeClassifier(max_depth=8)</pre><b>In a Jupyter environment, please rerun this cell to show the HTML representation or trust the notebook. <br />On GitHub, the HTML representation is unable to render, please try loading this page with nbviewer.org.</b></div><div class=\"sk-container\" hidden><div class=\"sk-item\"><div class=\"sk-estimator sk-toggleable\"><input class=\"sk-toggleable__control sk-hidden--visually\" id=\"sk-estimator-id-7\" type=\"checkbox\" checked><label for=\"sk-estimator-id-7\" class=\"sk-toggleable__label sk-toggleable__label-arrow\">DecisionTreeClassifier</label><div class=\"sk-toggleable__content\"><pre>DecisionTreeClassifier(max_depth=8)</pre></div></div></div></div></div>"
      ],
      "text/plain": [
       "DecisionTreeClassifier(max_depth=8)"
      ]
     },
     "execution_count": 70,
     "metadata": {},
     "output_type": "execute_result"
    }
   ],
   "source": [
    "modeldt_best = DecisionTreeClassifier(criterion= 'gini',max_depth=8)\n",
    "modeldt_best.fit(x_train,y_train)"
   ]
  },
  {
   "cell_type": "code",
   "execution_count": 71,
   "metadata": {},
   "outputs": [
    {
     "data": {
      "text/plain": [
       "0.9981601903251388"
      ]
     },
     "execution_count": 71,
     "metadata": {},
     "output_type": "execute_result"
    }
   ],
   "source": [
    "modeldt_best.score(x_test,y_test)"
   ]
  },
  {
   "cell_type": "code",
   "execution_count": 72,
   "metadata": {},
   "outputs": [],
   "source": [
    "# testing\n",
    "y_predict_bestdt = modeldt_best.predict(x_test)"
   ]
  },
  {
   "cell_type": "code",
   "execution_count": 73,
   "metadata": {},
   "outputs": [
    {
     "name": "stdout",
     "output_type": "stream",
     "text": [
      "\n",
      "Decision Tree Classification Report (Tuned)\n",
      "\n",
      "              precision    recall  f1-score   support\n",
      "\n",
      "           0       1.00      1.00      1.00     20000\n",
      "           1       1.00      1.00      1.00     11525\n",
      "\n",
      "    accuracy                           1.00     31525\n",
      "   macro avg       1.00      1.00      1.00     31525\n",
      "weighted avg       1.00      1.00      1.00     31525\n",
      "\n"
     ]
    }
   ],
   "source": [
    "# Displaying the classification report\n",
    "print('\\nDecision Tree Classification Report (Tuned)\\n')\n",
    "print(classification_report(y_test, y_predict_bestdt))"
   ]
  },
  {
   "cell_type": "code",
   "execution_count": 74,
   "metadata": {},
   "outputs": [
    {
     "data": {
      "text/plain": [
       "array([[19999,     1],\n",
       "       [   57, 11468]], dtype=int64)"
      ]
     },
     "execution_count": 74,
     "metadata": {},
     "output_type": "execute_result"
    }
   ],
   "source": [
    "# Confusion Matrix for Further Evaluation Matrix\n",
    "\n",
    "# Import Library\n",
    "from sklearn.metrics import confusion_matrix\n",
    "\n",
    "# Creating the confusion matrix\n",
    "conf_matrix_bestdt = confusion_matrix(y_test, y_predict_bestdt)\n",
    "conf_matrix_bestdt\n"
   ]
  },
  {
   "cell_type": "code",
   "execution_count": 75,
   "metadata": {},
   "outputs": [
    {
     "data": {
      "image/png": "[encoded data removed]",
      "text/plain": [
       "<Figure size 800x600 with 1 Axes>"
      ]
     },
     "metadata": {},
     "output_type": "display_data"
    }
   ],
   "source": [
    "\n",
    "# Displaying the confusion matrix using a heatmap\n",
    "plt.figure(figsize=(8, 6))\n",
    "sns.heatmap(conf_matrix_bestdt, annot=True, fmt='d', cmap='Blues', cbar=False,\n",
    "            xticklabels=['Predicted 0', 'Predicted 1'],\n",
    "            yticklabels=['Actual 0', 'Actual 1'])\n",
    "plt.title('Confusion Matrix - Decision Tree')\n",
    "plt.xlabel('Predicted Label')\n",
    "plt.ylabel('Actual Label')\n",
    "plt.show()"
   ]
  },
  {
   "cell_type": "code",
   "execution_count": null,
   "metadata": {},
   "outputs": [],
   "source": []
  },
  {
   "cell_type": "markdown",
   "metadata": {
    "id": "Jnkm8hwZZ7TD"
   },
   "source": [
    "Decision Tree Evaluation Metrics (Best):\n",
    "\n",
    "After testing, the maximum achievable accuracy by the Decision Tree model is 99.84%, which is slightly better than before tuning."
   ]
  },
  {
   "cell_type": "markdown",
   "metadata": {
    "id": "KljlKg7IaRvV"
   },
   "source": [
    "#### Conclusion:\n",
    "\n",
    "Hyperparameters: {'criterion': 'entropy', 'max_depth': 8}. We achieved an accuracy of 99.8%. Here are the evaluation results of our Decision Tree model:\n",
    "\n",
    "From the confusion matrix above, we can see that there are only 57 transactions that are actually money laundering but predicted as non-money laundering (FALSE NEGATIVE), and there are only 1 transactions that are actually not money laundering but predicted as money laundering (FALSE POSITIVE).\n",
    "\n",
    "From these insights, we can observe other evaluation metrics such as precision, recall, and f1 score, which are nearly 100% (although rounded to 100% in the classification report above).\n",
    "\n",
    "\n",
    "\n",
    "\n",
    "\n"
   ]
  },
  {
   "cell_type": "code",
   "execution_count": 76,
   "metadata": {
    "id": "8T8DmZV5ayPH"
   },
   "outputs": [],
   "source": [
    "with open('modeldt_best.pkl','wb') as f:\n",
    "    pkl.dump(modeldt_best,f)"
   ]
  },
  {
   "cell_type": "code",
   "execution_count": null,
   "metadata": {},
   "outputs": [],
   "source": []
  },
  {
   "cell_type": "code",
   "execution_count": null,
   "metadata": {},
   "outputs": [],
   "source": []
  }
 ],
 "metadata": {
  "accelerator": "GPU",
  "colab": {
   "gpuType": "T4",
   "provenance": []
  },
  "kernelspec": {
   "display_name": "Python 3 (ipykernel)",
   "language": "python",
   "name": "python3"
  },
  "language_info": {
   "codemirror_mode": {
    "name": "ipython",
    "version": 3
   },
   "file_extension": ".py",
   "mimetype": "text/x-python",
   "name": "python",
   "nbconvert_exporter": "python",
   "pygments_lexer": "ipython3",
   "version": "3.12.1"
  }
 },
 "nbformat": 4,
 "nbformat_minor": 1
}
